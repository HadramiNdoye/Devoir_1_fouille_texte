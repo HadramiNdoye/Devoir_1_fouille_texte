{
 "cells": [
  {
   "cell_type": "markdown",
   "id": "ee49309a",
   "metadata": {},
   "source": [
    "## <center>Examen mi-parcours </center>\n",
    "<center>Master parcours SSD - UE Apprentissage statistique 2 </center>\n",
    "<center>Automne 2021 </center>"
   ]
  },
  {
   "cell_type": "code",
   "execution_count": 1,
   "id": "2aa6af21",
   "metadata": {},
   "outputs": [],
   "source": [
    "# load package\n",
    "import pandas as pd \n",
    "import numpy as np\n",
    "import matplotlib.pylab as plt"
   ]
  },
  {
   "cell_type": "markdown",
   "id": "d6faf769",
   "metadata": {},
   "source": [
    "### Statistique descriptive"
   ]
  },
  {
   "cell_type": "code",
   "execution_count": 2,
   "id": "af273391",
   "metadata": {},
   "outputs": [
    {
     "data": {
      "text/html": [
       "<div>\n",
       "<style scoped>\n",
       "    .dataframe tbody tr th:only-of-type {\n",
       "        vertical-align: middle;\n",
       "    }\n",
       "\n",
       "    .dataframe tbody tr th {\n",
       "        vertical-align: top;\n",
       "    }\n",
       "\n",
       "    .dataframe thead th {\n",
       "        text-align: right;\n",
       "    }\n",
       "</style>\n",
       "<table border=\"1\" class=\"dataframe\">\n",
       "  <thead>\n",
       "    <tr style=\"text-align: right;\">\n",
       "      <th></th>\n",
       "      <th>EXERCISE_FREQUENCY</th>\n",
       "      <th>SEX</th>\n",
       "      <th>ONE_LITER_OF_WATER_A_DAY_FREQUENCY</th>\n",
       "      <th>SEAFOOD_FREQUENCY</th>\n",
       "      <th>PROBIOTIC_FREQUENCY</th>\n",
       "      <th>OLIVE_OIL</th>\n",
       "      <th>FRUIT_FREQUENCY</th>\n",
       "      <th>SLEEP_DURATION</th>\n",
       "      <th>SUGAR_SWEETENED_DRINK_FREQUENCY</th>\n",
       "      <th>MILK_CHEESE_FREQUENCY</th>\n",
       "      <th>RED_MEAT_FREQUENCY</th>\n",
       "      <th>MEAT_EGGS_FREQUENCY</th>\n",
       "      <th>VEGETABLE_FREQUENCY</th>\n",
       "    </tr>\n",
       "  </thead>\n",
       "  <tbody>\n",
       "    <tr>\n",
       "      <th>0</th>\n",
       "      <td>2</td>\n",
       "      <td>0</td>\n",
       "      <td>4</td>\n",
       "      <td>2</td>\n",
       "      <td>4</td>\n",
       "      <td>0</td>\n",
       "      <td>3</td>\n",
       "      <td>4</td>\n",
       "      <td>0</td>\n",
       "      <td>0</td>\n",
       "      <td>3</td>\n",
       "      <td>4</td>\n",
       "      <td>3</td>\n",
       "    </tr>\n",
       "    <tr>\n",
       "      <th>1</th>\n",
       "      <td>0</td>\n",
       "      <td>1</td>\n",
       "      <td>3</td>\n",
       "      <td>1</td>\n",
       "      <td>0</td>\n",
       "      <td>3</td>\n",
       "      <td>2</td>\n",
       "      <td>3</td>\n",
       "      <td>1</td>\n",
       "      <td>1</td>\n",
       "      <td>1</td>\n",
       "      <td>2</td>\n",
       "      <td>2</td>\n",
       "    </tr>\n",
       "    <tr>\n",
       "      <th>2</th>\n",
       "      <td>2</td>\n",
       "      <td>1</td>\n",
       "      <td>3</td>\n",
       "      <td>2</td>\n",
       "      <td>4</td>\n",
       "      <td>2</td>\n",
       "      <td>4</td>\n",
       "      <td>5</td>\n",
       "      <td>0</td>\n",
       "      <td>1</td>\n",
       "      <td>1</td>\n",
       "      <td>4</td>\n",
       "      <td>4</td>\n",
       "    </tr>\n",
       "    <tr>\n",
       "      <th>3</th>\n",
       "      <td>3</td>\n",
       "      <td>0</td>\n",
       "      <td>4</td>\n",
       "      <td>1</td>\n",
       "      <td>0</td>\n",
       "      <td>2</td>\n",
       "      <td>0</td>\n",
       "      <td>2</td>\n",
       "      <td>0</td>\n",
       "      <td>4</td>\n",
       "      <td>2</td>\n",
       "      <td>4</td>\n",
       "      <td>3</td>\n",
       "    </tr>\n",
       "    <tr>\n",
       "      <th>4</th>\n",
       "      <td>3</td>\n",
       "      <td>1</td>\n",
       "      <td>2</td>\n",
       "      <td>1</td>\n",
       "      <td>1</td>\n",
       "      <td>4</td>\n",
       "      <td>3</td>\n",
       "      <td>4</td>\n",
       "      <td>0</td>\n",
       "      <td>3</td>\n",
       "      <td>3</td>\n",
       "      <td>4</td>\n",
       "      <td>3</td>\n",
       "    </tr>\n",
       "  </tbody>\n",
       "</table>\n",
       "</div>"
      ],
      "text/plain": [
       "   EXERCISE_FREQUENCY  SEX  ONE_LITER_OF_WATER_A_DAY_FREQUENCY  \\\n",
       "0                   2    0                                   4   \n",
       "1                   0    1                                   3   \n",
       "2                   2    1                                   3   \n",
       "3                   3    0                                   4   \n",
       "4                   3    1                                   2   \n",
       "\n",
       "   SEAFOOD_FREQUENCY  PROBIOTIC_FREQUENCY  OLIVE_OIL  FRUIT_FREQUENCY  \\\n",
       "0                  2                    4          0                3   \n",
       "1                  1                    0          3                2   \n",
       "2                  2                    4          2                4   \n",
       "3                  1                    0          2                0   \n",
       "4                  1                    1          4                3   \n",
       "\n",
       "   SLEEP_DURATION  SUGAR_SWEETENED_DRINK_FREQUENCY  MILK_CHEESE_FREQUENCY  \\\n",
       "0               4                                0                      0   \n",
       "1               3                                1                      1   \n",
       "2               5                                0                      1   \n",
       "3               2                                0                      4   \n",
       "4               4                                0                      3   \n",
       "\n",
       "   RED_MEAT_FREQUENCY  MEAT_EGGS_FREQUENCY  VEGETABLE_FREQUENCY  \n",
       "0                   3                    4                    3  \n",
       "1                   1                    2                    2  \n",
       "2                   1                    4                    4  \n",
       "3                   2                    4                    3  \n",
       "4                   3                    4                    3  "
      ]
     },
     "execution_count": 2,
     "metadata": {},
     "output_type": "execute_result"
    }
   ],
   "source": [
    "# load data\n",
    "train_data_clinical = pd.read_csv(\"dataset/train-data_clinical.csv\",sep=\";\")\n",
    "train_data_clinical.shape\n",
    "train_data_clinical.head()"
   ]
  },
  {
   "cell_type": "code",
   "execution_count": 3,
   "id": "8c9d7df1",
   "metadata": {},
   "outputs": [
    {
     "data": {
      "text/plain": [
       "(850, 13)"
      ]
     },
     "execution_count": 3,
     "metadata": {},
     "output_type": "execute_result"
    }
   ],
   "source": [
    "test_data_clinical = pd.read_csv(\"dataset/test-data_clinical.csv\",sep=\";\",decimal=\".\")\n",
    "test_data_clinical.shape"
   ]
  },
  {
   "cell_type": "code",
   "execution_count": 4,
   "id": "bfb18c71",
   "metadata": {},
   "outputs": [
    {
     "name": "stdout",
     "output_type": "stream",
     "text": [
      "<class 'pandas.core.frame.DataFrame'>\n",
      "RangeIndex: 4965 entries, 0 to 4964\n",
      "Columns: 7033 entries, OTU_1 to OTU_7033\n",
      "dtypes: object(7033)\n",
      "memory usage: 266.4+ MB\n"
     ]
    }
   ],
   "source": [
    "train_data_otu = pd.read_csv(\"dataset/train-data_otu.csv\",sep=\";\",low_memory=False,decimal=\".\") \n",
    "train_data_otu.shape\n",
    "train_data_otu.info()"
   ]
  },
  {
   "cell_type": "code",
   "execution_count": 5,
   "id": "af7a3c5f",
   "metadata": {},
   "outputs": [
    {
     "data": {
      "text/html": [
       "<div>\n",
       "<style scoped>\n",
       "    .dataframe tbody tr th:only-of-type {\n",
       "        vertical-align: middle;\n",
       "    }\n",
       "\n",
       "    .dataframe tbody tr th {\n",
       "        vertical-align: top;\n",
       "    }\n",
       "\n",
       "    .dataframe thead th {\n",
       "        text-align: right;\n",
       "    }\n",
       "</style>\n",
       "<table border=\"1\" class=\"dataframe\">\n",
       "  <thead>\n",
       "    <tr style=\"text-align: right;\">\n",
       "      <th></th>\n",
       "      <th>OTU_1</th>\n",
       "      <th>OTU_2</th>\n",
       "      <th>OTU_3</th>\n",
       "      <th>OTU_4</th>\n",
       "      <th>OTU_5</th>\n",
       "      <th>OTU_6</th>\n",
       "      <th>OTU_7</th>\n",
       "      <th>OTU_8</th>\n",
       "      <th>OTU_9</th>\n",
       "      <th>OTU_10</th>\n",
       "      <th>...</th>\n",
       "      <th>OTU_7024</th>\n",
       "      <th>OTU_7025</th>\n",
       "      <th>OTU_7026</th>\n",
       "      <th>OTU_7027</th>\n",
       "      <th>OTU_7028</th>\n",
       "      <th>OTU_7029</th>\n",
       "      <th>OTU_7030</th>\n",
       "      <th>OTU_7031</th>\n",
       "      <th>OTU_7032</th>\n",
       "      <th>OTU_7033</th>\n",
       "    </tr>\n",
       "  </thead>\n",
       "  <tbody>\n",
       "    <tr>\n",
       "      <th>0</th>\n",
       "      <td>0,180439273676199</td>\n",
       "      <td>0,238664781994129</td>\n",
       "      <td>0</td>\n",
       "      <td>0,00385995433293465</td>\n",
       "      <td>0</td>\n",
       "      <td>0</td>\n",
       "      <td>0</td>\n",
       "      <td>0,000869848863759922</td>\n",
       "      <td>0,0167445906273785</td>\n",
       "      <td>0</td>\n",
       "      <td>...</td>\n",
       "      <td>0</td>\n",
       "      <td>0</td>\n",
       "      <td>0</td>\n",
       "      <td>0</td>\n",
       "      <td>0</td>\n",
       "      <td>0</td>\n",
       "      <td>0</td>\n",
       "      <td>0</td>\n",
       "      <td>0</td>\n",
       "      <td>0</td>\n",
       "    </tr>\n",
       "    <tr>\n",
       "      <th>1</th>\n",
       "      <td>0,000883197173769044</td>\n",
       "      <td>0,000504684099296597</td>\n",
       "      <td>0,000378513074472447</td>\n",
       "      <td>0,00170330883512601</td>\n",
       "      <td>0,000378513074472447</td>\n",
       "      <td>0</td>\n",
       "      <td>0,0159921773964609</td>\n",
       "      <td>0,0166230325205817</td>\n",
       "      <td>0</td>\n",
       "      <td>0</td>\n",
       "      <td>...</td>\n",
       "      <td>0</td>\n",
       "      <td>0</td>\n",
       "      <td>0</td>\n",
       "      <td>0</td>\n",
       "      <td>0</td>\n",
       "      <td>0</td>\n",
       "      <td>0</td>\n",
       "      <td>0</td>\n",
       "      <td>0</td>\n",
       "      <td>0</td>\n",
       "    </tr>\n",
       "    <tr>\n",
       "      <th>2</th>\n",
       "      <td>0,715733658673924</td>\n",
       "      <td>0,00225235793721552</td>\n",
       "      <td>0,0245413166909108</td>\n",
       "      <td>0,00183004082398761</td>\n",
       "      <td>0</td>\n",
       "      <td>0,0156726573131247</td>\n",
       "      <td>0,00168926845291164</td>\n",
       "      <td>0,000797710102763831</td>\n",
       "      <td>0,00183004082398761</td>\n",
       "      <td>0</td>\n",
       "      <td>...</td>\n",
       "      <td>0</td>\n",
       "      <td>0</td>\n",
       "      <td>0</td>\n",
       "      <td>0</td>\n",
       "      <td>0</td>\n",
       "      <td>0</td>\n",
       "      <td>0</td>\n",
       "      <td>0</td>\n",
       "      <td>0</td>\n",
       "      <td>0</td>\n",
       "    </tr>\n",
       "    <tr>\n",
       "      <th>3</th>\n",
       "      <td>0,00238338440585632</td>\n",
       "      <td>0,00374531835205993</td>\n",
       "      <td>0,00340483486550902</td>\n",
       "      <td>0,154125524912042</td>\n",
       "      <td>0,00612870275791624</td>\n",
       "      <td>0</td>\n",
       "      <td>0,145386448757235</td>\n",
       "      <td>0</td>\n",
       "      <td>0</td>\n",
       "      <td>0,0396095789354216</td>\n",
       "      <td>...</td>\n",
       "      <td>0</td>\n",
       "      <td>0</td>\n",
       "      <td>0</td>\n",
       "      <td>0</td>\n",
       "      <td>0</td>\n",
       "      <td>0</td>\n",
       "      <td>0</td>\n",
       "      <td>0</td>\n",
       "      <td>0</td>\n",
       "      <td>0</td>\n",
       "    </tr>\n",
       "    <tr>\n",
       "      <th>4</th>\n",
       "      <td>0,000683565935630874</td>\n",
       "      <td>0</td>\n",
       "      <td>0,105553973227001</td>\n",
       "      <td>0,0656223298205639</td>\n",
       "      <td>0,210823127314156</td>\n",
       "      <td>0,0504699515807462</td>\n",
       "      <td>0,0238678439191114</td>\n",
       "      <td>0,0694958701224722</td>\n",
       "      <td>0,00262033608658502</td>\n",
       "      <td>0</td>\n",
       "      <td>...</td>\n",
       "      <td>0</td>\n",
       "      <td>0</td>\n",
       "      <td>0</td>\n",
       "      <td>0</td>\n",
       "      <td>0</td>\n",
       "      <td>0</td>\n",
       "      <td>0</td>\n",
       "      <td>0</td>\n",
       "      <td>0</td>\n",
       "      <td>0</td>\n",
       "    </tr>\n",
       "  </tbody>\n",
       "</table>\n",
       "<p>5 rows × 7033 columns</p>\n",
       "</div>"
      ],
      "text/plain": [
       "                  OTU_1                 OTU_2                 OTU_3  \\\n",
       "0     0,180439273676199     0,238664781994129                     0   \n",
       "1  0,000883197173769044  0,000504684099296597  0,000378513074472447   \n",
       "2     0,715733658673924   0,00225235793721552    0,0245413166909108   \n",
       "3   0,00238338440585632   0,00374531835205993   0,00340483486550902   \n",
       "4  0,000683565935630874                     0     0,105553973227001   \n",
       "\n",
       "                 OTU_4                 OTU_5               OTU_6  \\\n",
       "0  0,00385995433293465                     0                   0   \n",
       "1  0,00170330883512601  0,000378513074472447                   0   \n",
       "2  0,00183004082398761                     0  0,0156726573131247   \n",
       "3    0,154125524912042   0,00612870275791624                   0   \n",
       "4   0,0656223298205639     0,210823127314156  0,0504699515807462   \n",
       "\n",
       "                 OTU_7                 OTU_8                OTU_9  \\\n",
       "0                    0  0,000869848863759922   0,0167445906273785   \n",
       "1   0,0159921773964609    0,0166230325205817                    0   \n",
       "2  0,00168926845291164  0,000797710102763831  0,00183004082398761   \n",
       "3    0,145386448757235                     0                    0   \n",
       "4   0,0238678439191114    0,0694958701224722  0,00262033608658502   \n",
       "\n",
       "               OTU_10  ... OTU_7024 OTU_7025 OTU_7026 OTU_7027 OTU_7028  \\\n",
       "0                   0  ...        0        0        0        0        0   \n",
       "1                   0  ...        0        0        0        0        0   \n",
       "2                   0  ...        0        0        0        0        0   \n",
       "3  0,0396095789354216  ...        0        0        0        0        0   \n",
       "4                   0  ...        0        0        0        0        0   \n",
       "\n",
       "  OTU_7029 OTU_7030 OTU_7031 OTU_7032 OTU_7033  \n",
       "0        0        0        0        0        0  \n",
       "1        0        0        0        0        0  \n",
       "2        0        0        0        0        0  \n",
       "3        0        0        0        0        0  \n",
       "4        0        0        0        0        0  \n",
       "\n",
       "[5 rows x 7033 columns]"
      ]
     },
     "execution_count": 5,
     "metadata": {},
     "output_type": "execute_result"
    }
   ],
   "source": [
    "train_data_otu.head()"
   ]
  },
  {
   "cell_type": "code",
   "execution_count": 6,
   "id": "00df985e",
   "metadata": {},
   "outputs": [
    {
     "name": "stdout",
     "output_type": "stream",
     "text": [
      "<class 'pandas.core.frame.DataFrame'>\n",
      "RangeIndex: 850 entries, 0 to 849\n",
      "Columns: 7033 entries, OTU_1 to OTU_7033\n",
      "dtypes: int64(37), object(6996)\n",
      "memory usage: 45.6+ MB\n"
     ]
    }
   ],
   "source": [
    "test_data_otu =pd.read_csv(\"dataset/test-data_otu.csv\",sep=\";\",low_memory=False)\n",
    "test_data_otu.info()"
   ]
  },
  {
   "cell_type": "code",
   "execution_count": 7,
   "id": "042840af",
   "metadata": {},
   "outputs": [
    {
     "data": {
      "text/html": [
       "<div>\n",
       "<style scoped>\n",
       "    .dataframe tbody tr th:only-of-type {\n",
       "        vertical-align: middle;\n",
       "    }\n",
       "\n",
       "    .dataframe tbody tr th {\n",
       "        vertical-align: top;\n",
       "    }\n",
       "\n",
       "    .dataframe thead th {\n",
       "        text-align: right;\n",
       "    }\n",
       "</style>\n",
       "<table border=\"1\" class=\"dataframe\">\n",
       "  <thead>\n",
       "    <tr style=\"text-align: right;\">\n",
       "      <th></th>\n",
       "      <th>OTU_1</th>\n",
       "      <th>OTU_2</th>\n",
       "      <th>OTU_3</th>\n",
       "      <th>OTU_4</th>\n",
       "      <th>OTU_5</th>\n",
       "      <th>OTU_6</th>\n",
       "      <th>OTU_7</th>\n",
       "      <th>OTU_8</th>\n",
       "      <th>OTU_9</th>\n",
       "      <th>OTU_10</th>\n",
       "      <th>...</th>\n",
       "      <th>OTU_7024</th>\n",
       "      <th>OTU_7025</th>\n",
       "      <th>OTU_7026</th>\n",
       "      <th>OTU_7027</th>\n",
       "      <th>OTU_7028</th>\n",
       "      <th>OTU_7029</th>\n",
       "      <th>OTU_7030</th>\n",
       "      <th>OTU_7031</th>\n",
       "      <th>OTU_7032</th>\n",
       "      <th>OTU_7033</th>\n",
       "    </tr>\n",
       "  </thead>\n",
       "  <tbody>\n",
       "    <tr>\n",
       "      <th>0</th>\n",
       "      <td>0,266402938683244</td>\n",
       "      <td>0</td>\n",
       "      <td>0,00469059056230574</td>\n",
       "      <td>0,00514269567674484</td>\n",
       "      <td>0,132862390505793</td>\n",
       "      <td>0,000678157671658661</td>\n",
       "      <td>0,00299519638315908</td>\n",
       "      <td>0,0305170952246397</td>\n",
       "      <td>0,0394461712348121</td>\n",
       "      <td>0</td>\n",
       "      <td>...</td>\n",
       "      <td>0</td>\n",
       "      <td>0</td>\n",
       "      <td>0</td>\n",
       "      <td>0</td>\n",
       "      <td>0</td>\n",
       "      <td>0</td>\n",
       "      <td>0</td>\n",
       "      <td>0</td>\n",
       "      <td>0</td>\n",
       "      <td>0</td>\n",
       "    </tr>\n",
       "    <tr>\n",
       "      <th>1</th>\n",
       "      <td>0,00141211445559272</td>\n",
       "      <td>0,228985507246377</td>\n",
       "      <td>0,00921590486807878</td>\n",
       "      <td>0,0130063173541434</td>\n",
       "      <td>0</td>\n",
       "      <td>0</td>\n",
       "      <td>0,00594574507617986</td>\n",
       "      <td>0,0120401337792642</td>\n",
       "      <td>0,145893719806763</td>\n",
       "      <td>0</td>\n",
       "      <td>...</td>\n",
       "      <td>0</td>\n",
       "      <td>0</td>\n",
       "      <td>0</td>\n",
       "      <td>0</td>\n",
       "      <td>0</td>\n",
       "      <td>0</td>\n",
       "      <td>0</td>\n",
       "      <td>0</td>\n",
       "      <td>0</td>\n",
       "      <td>0</td>\n",
       "    </tr>\n",
       "    <tr>\n",
       "      <th>2</th>\n",
       "      <td>0,0010618312505105</td>\n",
       "      <td>0,0414930980968717</td>\n",
       "      <td>0,0115984644286531</td>\n",
       "      <td>0,0495793514661439</td>\n",
       "      <td>0</td>\n",
       "      <td>0</td>\n",
       "      <td>0,008739687984971</td>\n",
       "      <td>0,00996487788940619</td>\n",
       "      <td>0,00914808461978273</td>\n",
       "      <td>0,00269541778975741</td>\n",
       "      <td>...</td>\n",
       "      <td>0</td>\n",
       "      <td>0</td>\n",
       "      <td>0</td>\n",
       "      <td>0</td>\n",
       "      <td>0</td>\n",
       "      <td>0</td>\n",
       "      <td>0</td>\n",
       "      <td>0</td>\n",
       "      <td>0</td>\n",
       "      <td>0</td>\n",
       "    </tr>\n",
       "    <tr>\n",
       "      <th>3</th>\n",
       "      <td>0,00216740948775872</td>\n",
       "      <td>0,210055558947433</td>\n",
       "      <td>0,234934977715367</td>\n",
       "      <td>0,0906954026497344</td>\n",
       "      <td>0,000366322730325417</td>\n",
       "      <td>0,000305268941937847</td>\n",
       "      <td>0,000366322730325417</td>\n",
       "      <td>0</td>\n",
       "      <td>0,0721045240857195</td>\n",
       "      <td>0</td>\n",
       "      <td>...</td>\n",
       "      <td>0</td>\n",
       "      <td>0</td>\n",
       "      <td>0</td>\n",
       "      <td>0</td>\n",
       "      <td>0</td>\n",
       "      <td>0</td>\n",
       "      <td>0</td>\n",
       "      <td>0</td>\n",
       "      <td>0</td>\n",
       "      <td>0</td>\n",
       "    </tr>\n",
       "    <tr>\n",
       "      <th>4</th>\n",
       "      <td>0,549270472768698</td>\n",
       "      <td>0,0304079218332384</td>\n",
       "      <td>0,000438154493274329</td>\n",
       "      <td>0,00635324015247776</td>\n",
       "      <td>0</td>\n",
       "      <td>0</td>\n",
       "      <td>0,00030670814529203</td>\n",
       "      <td>0</td>\n",
       "      <td>0</td>\n",
       "      <td>0</td>\n",
       "      <td>...</td>\n",
       "      <td>0</td>\n",
       "      <td>8,76308986548657e-05</td>\n",
       "      <td>0</td>\n",
       "      <td>0</td>\n",
       "      <td>0</td>\n",
       "      <td>0</td>\n",
       "      <td>0</td>\n",
       "      <td>0</td>\n",
       "      <td>0</td>\n",
       "      <td>0</td>\n",
       "    </tr>\n",
       "  </tbody>\n",
       "</table>\n",
       "<p>5 rows × 7033 columns</p>\n",
       "</div>"
      ],
      "text/plain": [
       "                 OTU_1               OTU_2                 OTU_3  \\\n",
       "0    0,266402938683244                   0   0,00469059056230574   \n",
       "1  0,00141211445559272   0,228985507246377   0,00921590486807878   \n",
       "2   0,0010618312505105  0,0414930980968717    0,0115984644286531   \n",
       "3  0,00216740948775872   0,210055558947433     0,234934977715367   \n",
       "4    0,549270472768698  0,0304079218332384  0,000438154493274329   \n",
       "\n",
       "                 OTU_4                 OTU_5                 OTU_6  \\\n",
       "0  0,00514269567674484     0,132862390505793  0,000678157671658661   \n",
       "1   0,0130063173541434                     0                     0   \n",
       "2   0,0495793514661439                     0                     0   \n",
       "3   0,0906954026497344  0,000366322730325417  0,000305268941937847   \n",
       "4  0,00635324015247776                     0                     0   \n",
       "\n",
       "                  OTU_7                OTU_8                OTU_9  \\\n",
       "0   0,00299519638315908   0,0305170952246397   0,0394461712348121   \n",
       "1   0,00594574507617986   0,0120401337792642    0,145893719806763   \n",
       "2     0,008739687984971  0,00996487788940619  0,00914808461978273   \n",
       "3  0,000366322730325417                    0   0,0721045240857195   \n",
       "4   0,00030670814529203                    0                    0   \n",
       "\n",
       "                OTU_10  ... OTU_7024              OTU_7025 OTU_7026 OTU_7027  \\\n",
       "0                    0  ...        0                     0        0        0   \n",
       "1                    0  ...        0                     0        0        0   \n",
       "2  0,00269541778975741  ...        0                     0        0        0   \n",
       "3                    0  ...        0                     0        0        0   \n",
       "4                    0  ...        0  8,76308986548657e-05        0        0   \n",
       "\n",
       "  OTU_7028 OTU_7029 OTU_7030 OTU_7031 OTU_7032 OTU_7033  \n",
       "0        0        0        0        0        0        0  \n",
       "1        0        0        0        0        0        0  \n",
       "2        0        0        0        0        0        0  \n",
       "3        0        0        0        0        0        0  \n",
       "4        0        0        0        0        0        0  \n",
       "\n",
       "[5 rows x 7033 columns]"
      ]
     },
     "execution_count": 7,
     "metadata": {},
     "output_type": "execute_result"
    }
   ],
   "source": [
    "test_data_otu.head()"
   ]
  },
  {
   "cell_type": "code",
   "execution_count": 8,
   "id": "e7057a6a",
   "metadata": {},
   "outputs": [],
   "source": [
    "def pre_processing(data):\n",
    "    column_data = np.ravel(np.array(data.columns))\n",
    "    for i in column_data:\n",
    "        if data[i].dtypes==\"object\":\n",
    "            data[i] = [x.replace(',','.') for x in data[i]]\n",
    "    data = data.apply(pd.to_numeric)\n",
    "    return data"
   ]
  },
  {
   "cell_type": "code",
   "execution_count": 10,
   "id": "f253d674",
   "metadata": {},
   "outputs": [],
   "source": [
    "train_data_otu = pre_processing(train_data_otu)"
   ]
  },
  {
   "cell_type": "code",
   "execution_count": 11,
   "id": "5a7fc650",
   "metadata": {},
   "outputs": [
    {
     "name": "stdout",
     "output_type": "stream",
     "text": [
      "<class 'pandas.core.frame.DataFrame'>\n",
      "RangeIndex: 4965 entries, 0 to 4964\n",
      "Columns: 7033 entries, OTU_1 to OTU_7033\n",
      "dtypes: float64(7033)\n",
      "memory usage: 266.4 MB\n"
     ]
    }
   ],
   "source": [
    "train_data_otu.head()\n",
    "train_data_otu.info()"
   ]
  },
  {
   "cell_type": "code",
   "execution_count": 12,
   "id": "9d9dd9fe",
   "metadata": {},
   "outputs": [],
   "source": [
    "test_data_otu = pre_processing(test_data_otu)"
   ]
  },
  {
   "cell_type": "code",
   "execution_count": 13,
   "id": "f52f08a2",
   "metadata": {},
   "outputs": [
    {
     "name": "stdout",
     "output_type": "stream",
     "text": [
      "<class 'pandas.core.frame.DataFrame'>\n",
      "RangeIndex: 850 entries, 0 to 849\n",
      "Columns: 7033 entries, OTU_1 to OTU_7033\n",
      "dtypes: float64(6996), int64(37)\n",
      "memory usage: 45.6 MB\n"
     ]
    }
   ],
   "source": [
    "test_data_otu.head()\n",
    "test_data_otu.info()"
   ]
  },
  {
   "cell_type": "markdown",
   "id": "b3b5e5f0",
   "metadata": {},
   "source": [
    "On transforme toutes les variables de type object en float"
   ]
  },
  {
   "cell_type": "code",
   "execution_count": 14,
   "id": "4a912c45",
   "metadata": {},
   "outputs": [
    {
     "data": {
      "text/plain": [
       "array(['Healthy', 'IBD'], dtype=object)"
      ]
     },
     "execution_count": 14,
     "metadata": {},
     "output_type": "execute_result"
    }
   ],
   "source": [
    "train_label = pd.read_csv(\"dataset/train-label.txt\",header=None)\n",
    "train_label = np.array(train_label)\n",
    "train_label\n",
    "np.unique(train_label)"
   ]
  },
  {
   "cell_type": "markdown",
   "id": "403f6ef9",
   "metadata": {},
   "source": [
    "On transforme les valeurs du vecteur train label en 0 et 1\n",
    "\n",
    "Healthy = 0\n",
    "\n",
    "IBD = 1"
   ]
  },
  {
   "cell_type": "code",
   "execution_count": 15,
   "id": "ff6ae0d0",
   "metadata": {},
   "outputs": [],
   "source": [
    "def encoder_train_label(data):\n",
    "    n = np.size(data)\n",
    "    for i in range(n):\n",
    "        if(data[i]=='Healthy'):\n",
    "            data[i] = 0\n",
    "        if(data[i]=='IBD'):\n",
    "            data[i] = 1\n",
    "    return data"
   ]
  },
  {
   "cell_type": "code",
   "execution_count": 16,
   "id": "4106c842",
   "metadata": {},
   "outputs": [],
   "source": [
    "train_label = np.ravel(encoder_train_label(train_label).astype(int))"
   ]
  },
  {
   "cell_type": "markdown",
   "id": "cc82cecd",
   "metadata": {},
   "source": [
    "### Pre-Traitement"
   ]
  },
  {
   "cell_type": "code",
   "execution_count": 17,
   "id": "9f2944cd",
   "metadata": {},
   "outputs": [
    {
     "data": {
      "text/html": [
       "<div>\n",
       "<style scoped>\n",
       "    .dataframe tbody tr th:only-of-type {\n",
       "        vertical-align: middle;\n",
       "    }\n",
       "\n",
       "    .dataframe tbody tr th {\n",
       "        vertical-align: top;\n",
       "    }\n",
       "\n",
       "    .dataframe thead th {\n",
       "        text-align: right;\n",
       "    }\n",
       "</style>\n",
       "<table border=\"1\" class=\"dataframe\">\n",
       "  <thead>\n",
       "    <tr style=\"text-align: right;\">\n",
       "      <th></th>\n",
       "      <th>EXERCISE_FREQUENCY</th>\n",
       "      <th>SEX</th>\n",
       "      <th>ONE_LITER_OF_WATER_A_DAY_FREQUENCY</th>\n",
       "      <th>SEAFOOD_FREQUENCY</th>\n",
       "      <th>PROBIOTIC_FREQUENCY</th>\n",
       "      <th>OLIVE_OIL</th>\n",
       "      <th>FRUIT_FREQUENCY</th>\n",
       "      <th>SLEEP_DURATION</th>\n",
       "      <th>SUGAR_SWEETENED_DRINK_FREQUENCY</th>\n",
       "      <th>MILK_CHEESE_FREQUENCY</th>\n",
       "      <th>...</th>\n",
       "      <th>OTU_7024</th>\n",
       "      <th>OTU_7025</th>\n",
       "      <th>OTU_7026</th>\n",
       "      <th>OTU_7027</th>\n",
       "      <th>OTU_7028</th>\n",
       "      <th>OTU_7029</th>\n",
       "      <th>OTU_7030</th>\n",
       "      <th>OTU_7031</th>\n",
       "      <th>OTU_7032</th>\n",
       "      <th>OTU_7033</th>\n",
       "    </tr>\n",
       "  </thead>\n",
       "  <tbody>\n",
       "    <tr>\n",
       "      <th>0</th>\n",
       "      <td>2</td>\n",
       "      <td>0</td>\n",
       "      <td>4</td>\n",
       "      <td>2</td>\n",
       "      <td>4</td>\n",
       "      <td>0</td>\n",
       "      <td>3</td>\n",
       "      <td>4</td>\n",
       "      <td>0</td>\n",
       "      <td>0</td>\n",
       "      <td>...</td>\n",
       "      <td>0.0</td>\n",
       "      <td>0.0</td>\n",
       "      <td>0.0</td>\n",
       "      <td>0.0</td>\n",
       "      <td>0.0</td>\n",
       "      <td>0.0</td>\n",
       "      <td>0.0</td>\n",
       "      <td>0.0</td>\n",
       "      <td>0.0</td>\n",
       "      <td>0.0</td>\n",
       "    </tr>\n",
       "    <tr>\n",
       "      <th>1</th>\n",
       "      <td>0</td>\n",
       "      <td>1</td>\n",
       "      <td>3</td>\n",
       "      <td>1</td>\n",
       "      <td>0</td>\n",
       "      <td>3</td>\n",
       "      <td>2</td>\n",
       "      <td>3</td>\n",
       "      <td>1</td>\n",
       "      <td>1</td>\n",
       "      <td>...</td>\n",
       "      <td>0.0</td>\n",
       "      <td>0.0</td>\n",
       "      <td>0.0</td>\n",
       "      <td>0.0</td>\n",
       "      <td>0.0</td>\n",
       "      <td>0.0</td>\n",
       "      <td>0.0</td>\n",
       "      <td>0.0</td>\n",
       "      <td>0.0</td>\n",
       "      <td>0.0</td>\n",
       "    </tr>\n",
       "    <tr>\n",
       "      <th>2</th>\n",
       "      <td>2</td>\n",
       "      <td>1</td>\n",
       "      <td>3</td>\n",
       "      <td>2</td>\n",
       "      <td>4</td>\n",
       "      <td>2</td>\n",
       "      <td>4</td>\n",
       "      <td>5</td>\n",
       "      <td>0</td>\n",
       "      <td>1</td>\n",
       "      <td>...</td>\n",
       "      <td>0.0</td>\n",
       "      <td>0.0</td>\n",
       "      <td>0.0</td>\n",
       "      <td>0.0</td>\n",
       "      <td>0.0</td>\n",
       "      <td>0.0</td>\n",
       "      <td>0.0</td>\n",
       "      <td>0.0</td>\n",
       "      <td>0.0</td>\n",
       "      <td>0.0</td>\n",
       "    </tr>\n",
       "    <tr>\n",
       "      <th>3</th>\n",
       "      <td>3</td>\n",
       "      <td>0</td>\n",
       "      <td>4</td>\n",
       "      <td>1</td>\n",
       "      <td>0</td>\n",
       "      <td>2</td>\n",
       "      <td>0</td>\n",
       "      <td>2</td>\n",
       "      <td>0</td>\n",
       "      <td>4</td>\n",
       "      <td>...</td>\n",
       "      <td>0.0</td>\n",
       "      <td>0.0</td>\n",
       "      <td>0.0</td>\n",
       "      <td>0.0</td>\n",
       "      <td>0.0</td>\n",
       "      <td>0.0</td>\n",
       "      <td>0.0</td>\n",
       "      <td>0.0</td>\n",
       "      <td>0.0</td>\n",
       "      <td>0.0</td>\n",
       "    </tr>\n",
       "    <tr>\n",
       "      <th>4</th>\n",
       "      <td>3</td>\n",
       "      <td>1</td>\n",
       "      <td>2</td>\n",
       "      <td>1</td>\n",
       "      <td>1</td>\n",
       "      <td>4</td>\n",
       "      <td>3</td>\n",
       "      <td>4</td>\n",
       "      <td>0</td>\n",
       "      <td>3</td>\n",
       "      <td>...</td>\n",
       "      <td>0.0</td>\n",
       "      <td>0.0</td>\n",
       "      <td>0.0</td>\n",
       "      <td>0.0</td>\n",
       "      <td>0.0</td>\n",
       "      <td>0.0</td>\n",
       "      <td>0.0</td>\n",
       "      <td>0.0</td>\n",
       "      <td>0.0</td>\n",
       "      <td>0.0</td>\n",
       "    </tr>\n",
       "  </tbody>\n",
       "</table>\n",
       "<p>5 rows × 7046 columns</p>\n",
       "</div>"
      ],
      "text/plain": [
       "   EXERCISE_FREQUENCY  SEX  ONE_LITER_OF_WATER_A_DAY_FREQUENCY  \\\n",
       "0                   2    0                                   4   \n",
       "1                   0    1                                   3   \n",
       "2                   2    1                                   3   \n",
       "3                   3    0                                   4   \n",
       "4                   3    1                                   2   \n",
       "\n",
       "   SEAFOOD_FREQUENCY  PROBIOTIC_FREQUENCY  OLIVE_OIL  FRUIT_FREQUENCY  \\\n",
       "0                  2                    4          0                3   \n",
       "1                  1                    0          3                2   \n",
       "2                  2                    4          2                4   \n",
       "3                  1                    0          2                0   \n",
       "4                  1                    1          4                3   \n",
       "\n",
       "   SLEEP_DURATION  SUGAR_SWEETENED_DRINK_FREQUENCY  MILK_CHEESE_FREQUENCY  \\\n",
       "0               4                                0                      0   \n",
       "1               3                                1                      1   \n",
       "2               5                                0                      1   \n",
       "3               2                                0                      4   \n",
       "4               4                                0                      3   \n",
       "\n",
       "   ...  OTU_7024  OTU_7025  OTU_7026  OTU_7027  OTU_7028  OTU_7029  OTU_7030  \\\n",
       "0  ...       0.0       0.0       0.0       0.0       0.0       0.0       0.0   \n",
       "1  ...       0.0       0.0       0.0       0.0       0.0       0.0       0.0   \n",
       "2  ...       0.0       0.0       0.0       0.0       0.0       0.0       0.0   \n",
       "3  ...       0.0       0.0       0.0       0.0       0.0       0.0       0.0   \n",
       "4  ...       0.0       0.0       0.0       0.0       0.0       0.0       0.0   \n",
       "\n",
       "   OTU_7031  OTU_7032  OTU_7033  \n",
       "0       0.0       0.0       0.0  \n",
       "1       0.0       0.0       0.0  \n",
       "2       0.0       0.0       0.0  \n",
       "3       0.0       0.0       0.0  \n",
       "4       0.0       0.0       0.0  \n",
       "\n",
       "[5 rows x 7046 columns]"
      ]
     },
     "execution_count": 17,
     "metadata": {},
     "output_type": "execute_result"
    }
   ],
   "source": [
    "size_x_train = train_data_otu.shape[0]\n",
    "X = pd.concat([train_data_clinical,train_data_otu],axis=1)\n",
    "X.head()"
   ]
  },
  {
   "cell_type": "code",
   "execution_count": 20,
   "id": "e0d6b0b6",
   "metadata": {},
   "outputs": [
    {
     "data": {
      "text/html": [
       "<div>\n",
       "<style scoped>\n",
       "    .dataframe tbody tr th:only-of-type {\n",
       "        vertical-align: middle;\n",
       "    }\n",
       "\n",
       "    .dataframe tbody tr th {\n",
       "        vertical-align: top;\n",
       "    }\n",
       "\n",
       "    .dataframe thead th {\n",
       "        text-align: right;\n",
       "    }\n",
       "</style>\n",
       "<table border=\"1\" class=\"dataframe\">\n",
       "  <thead>\n",
       "    <tr style=\"text-align: right;\">\n",
       "      <th></th>\n",
       "      <th>EXERCISE_FREQUENCY</th>\n",
       "      <th>SEX</th>\n",
       "      <th>ONE_LITER_OF_WATER_A_DAY_FREQUENCY</th>\n",
       "      <th>SEAFOOD_FREQUENCY</th>\n",
       "      <th>PROBIOTIC_FREQUENCY</th>\n",
       "      <th>OLIVE_OIL</th>\n",
       "      <th>FRUIT_FREQUENCY</th>\n",
       "      <th>SLEEP_DURATION</th>\n",
       "      <th>SUGAR_SWEETENED_DRINK_FREQUENCY</th>\n",
       "      <th>MILK_CHEESE_FREQUENCY</th>\n",
       "      <th>...</th>\n",
       "      <th>OTU_7024</th>\n",
       "      <th>OTU_7025</th>\n",
       "      <th>OTU_7026</th>\n",
       "      <th>OTU_7027</th>\n",
       "      <th>OTU_7028</th>\n",
       "      <th>OTU_7029</th>\n",
       "      <th>OTU_7030</th>\n",
       "      <th>OTU_7031</th>\n",
       "      <th>OTU_7032</th>\n",
       "      <th>OTU_7033</th>\n",
       "    </tr>\n",
       "  </thead>\n",
       "  <tbody>\n",
       "    <tr>\n",
       "      <th>0</th>\n",
       "      <td>2</td>\n",
       "      <td>0</td>\n",
       "      <td>4</td>\n",
       "      <td>2</td>\n",
       "      <td>4</td>\n",
       "      <td>0</td>\n",
       "      <td>3</td>\n",
       "      <td>4</td>\n",
       "      <td>0</td>\n",
       "      <td>0</td>\n",
       "      <td>...</td>\n",
       "      <td>0.0</td>\n",
       "      <td>0.0</td>\n",
       "      <td>0.0</td>\n",
       "      <td>0.0</td>\n",
       "      <td>0.0</td>\n",
       "      <td>0.0</td>\n",
       "      <td>0.0</td>\n",
       "      <td>0.0</td>\n",
       "      <td>0.0</td>\n",
       "      <td>0.0</td>\n",
       "    </tr>\n",
       "    <tr>\n",
       "      <th>1</th>\n",
       "      <td>0</td>\n",
       "      <td>1</td>\n",
       "      <td>3</td>\n",
       "      <td>1</td>\n",
       "      <td>0</td>\n",
       "      <td>3</td>\n",
       "      <td>2</td>\n",
       "      <td>3</td>\n",
       "      <td>1</td>\n",
       "      <td>1</td>\n",
       "      <td>...</td>\n",
       "      <td>0.0</td>\n",
       "      <td>0.0</td>\n",
       "      <td>0.0</td>\n",
       "      <td>0.0</td>\n",
       "      <td>0.0</td>\n",
       "      <td>0.0</td>\n",
       "      <td>0.0</td>\n",
       "      <td>0.0</td>\n",
       "      <td>0.0</td>\n",
       "      <td>0.0</td>\n",
       "    </tr>\n",
       "    <tr>\n",
       "      <th>2</th>\n",
       "      <td>2</td>\n",
       "      <td>1</td>\n",
       "      <td>3</td>\n",
       "      <td>2</td>\n",
       "      <td>4</td>\n",
       "      <td>2</td>\n",
       "      <td>4</td>\n",
       "      <td>5</td>\n",
       "      <td>0</td>\n",
       "      <td>1</td>\n",
       "      <td>...</td>\n",
       "      <td>0.0</td>\n",
       "      <td>0.0</td>\n",
       "      <td>0.0</td>\n",
       "      <td>0.0</td>\n",
       "      <td>0.0</td>\n",
       "      <td>0.0</td>\n",
       "      <td>0.0</td>\n",
       "      <td>0.0</td>\n",
       "      <td>0.0</td>\n",
       "      <td>0.0</td>\n",
       "    </tr>\n",
       "    <tr>\n",
       "      <th>3</th>\n",
       "      <td>3</td>\n",
       "      <td>0</td>\n",
       "      <td>4</td>\n",
       "      <td>1</td>\n",
       "      <td>0</td>\n",
       "      <td>2</td>\n",
       "      <td>0</td>\n",
       "      <td>2</td>\n",
       "      <td>0</td>\n",
       "      <td>4</td>\n",
       "      <td>...</td>\n",
       "      <td>0.0</td>\n",
       "      <td>0.0</td>\n",
       "      <td>0.0</td>\n",
       "      <td>0.0</td>\n",
       "      <td>0.0</td>\n",
       "      <td>0.0</td>\n",
       "      <td>0.0</td>\n",
       "      <td>0.0</td>\n",
       "      <td>0.0</td>\n",
       "      <td>0.0</td>\n",
       "    </tr>\n",
       "    <tr>\n",
       "      <th>4</th>\n",
       "      <td>3</td>\n",
       "      <td>1</td>\n",
       "      <td>2</td>\n",
       "      <td>1</td>\n",
       "      <td>1</td>\n",
       "      <td>4</td>\n",
       "      <td>3</td>\n",
       "      <td>4</td>\n",
       "      <td>0</td>\n",
       "      <td>3</td>\n",
       "      <td>...</td>\n",
       "      <td>0.0</td>\n",
       "      <td>0.0</td>\n",
       "      <td>0.0</td>\n",
       "      <td>0.0</td>\n",
       "      <td>0.0</td>\n",
       "      <td>0.0</td>\n",
       "      <td>0.0</td>\n",
       "      <td>0.0</td>\n",
       "      <td>0.0</td>\n",
       "      <td>0.0</td>\n",
       "    </tr>\n",
       "  </tbody>\n",
       "</table>\n",
       "<p>5 rows × 7046 columns</p>\n",
       "</div>"
      ],
      "text/plain": [
       "   EXERCISE_FREQUENCY  SEX  ONE_LITER_OF_WATER_A_DAY_FREQUENCY  \\\n",
       "0                   2    0                                   4   \n",
       "1                   0    1                                   3   \n",
       "2                   2    1                                   3   \n",
       "3                   3    0                                   4   \n",
       "4                   3    1                                   2   \n",
       "\n",
       "   SEAFOOD_FREQUENCY  PROBIOTIC_FREQUENCY  OLIVE_OIL  FRUIT_FREQUENCY  \\\n",
       "0                  2                    4          0                3   \n",
       "1                  1                    0          3                2   \n",
       "2                  2                    4          2                4   \n",
       "3                  1                    0          2                0   \n",
       "4                  1                    1          4                3   \n",
       "\n",
       "   SLEEP_DURATION  SUGAR_SWEETENED_DRINK_FREQUENCY  MILK_CHEESE_FREQUENCY  \\\n",
       "0               4                                0                      0   \n",
       "1               3                                1                      1   \n",
       "2               5                                0                      1   \n",
       "3               2                                0                      4   \n",
       "4               4                                0                      3   \n",
       "\n",
       "   ...  OTU_7024  OTU_7025  OTU_7026  OTU_7027  OTU_7028  OTU_7029  OTU_7030  \\\n",
       "0  ...       0.0       0.0       0.0       0.0       0.0       0.0       0.0   \n",
       "1  ...       0.0       0.0       0.0       0.0       0.0       0.0       0.0   \n",
       "2  ...       0.0       0.0       0.0       0.0       0.0       0.0       0.0   \n",
       "3  ...       0.0       0.0       0.0       0.0       0.0       0.0       0.0   \n",
       "4  ...       0.0       0.0       0.0       0.0       0.0       0.0       0.0   \n",
       "\n",
       "   OTU_7031  OTU_7032  OTU_7033  \n",
       "0       0.0       0.0       0.0  \n",
       "1       0.0       0.0       0.0  \n",
       "2       0.0       0.0       0.0  \n",
       "3       0.0       0.0       0.0  \n",
       "4       0.0       0.0       0.0  \n",
       "\n",
       "[5 rows x 7046 columns]"
      ]
     },
     "execution_count": 20,
     "metadata": {},
     "output_type": "execute_result"
    }
   ],
   "source": [
    "ind_train =  np.random.randint(size_x_train,size=size_x_train)\n",
    "X_train = X\n",
    "X_train.head()"
   ]
  },
  {
   "cell_type": "code",
   "execution_count": 21,
   "id": "2b544e11",
   "metadata": {},
   "outputs": [
    {
     "data": {
      "text/plain": [
       "(850, 7046)"
      ]
     },
     "execution_count": 21,
     "metadata": {},
     "output_type": "execute_result"
    }
   ],
   "source": [
    "size_test = test_data_clinical.shape[0]\n",
    "ind_test = np.random.randint(size_test,size=size_test)\n",
    "X_test = pd.concat([test_data_clinical,test_data_otu],axis=1)\n",
    "X_test.shape"
   ]
  },
  {
   "cell_type": "code",
   "execution_count": 22,
   "id": "bd4b6733",
   "metadata": {},
   "outputs": [],
   "source": [
    "y_train = train_label"
   ]
  },
  {
   "cell_type": "code",
   "execution_count": 32,
   "id": "ba99277c",
   "metadata": {},
   "outputs": [],
   "source": [
    "size_ytest = X_test.shape[0]\n",
    "ind_y_test = np.random.randint(size_ytest,size=size_ytest)\n",
    "y_test = y_train[ind_y_test]"
   ]
  },
  {
   "cell_type": "code",
   "execution_count": 24,
   "id": "f9144255",
   "metadata": {},
   "outputs": [
    {
     "data": {
      "text/plain": [
       "<BarContainer object of 2 artists>"
      ]
     },
     "execution_count": 24,
     "metadata": {},
     "output_type": "execute_result"
    },
    {
     "data": {
      "image/png": "[encoded data removed]",
      "text/plain": [
       "<Figure size 432x288 with 1 Axes>"
      ]
     },
     "metadata": {
      "needs_background": "light"
     },
     "output_type": "display_data"
    }
   ],
   "source": [
    "# Representation des effectifs par class\n",
    "h = np.bincount(y_train)\n",
    "plt.bar(['0','1'],h,color=['green','red'],tick_label=['Healthy','IBD'])"
   ]
  },
  {
   "cell_type": "markdown",
   "id": "184d0df6",
   "metadata": {},
   "source": [
    "Methode 1 : Classification"
   ]
  },
  {
   "cell_type": "code",
   "execution_count": 25,
   "id": "6c93c82a",
   "metadata": {},
   "outputs": [
    {
     "data": {
      "text/plain": [
       "KNeighborsClassifier(n_neighbors=2)"
      ]
     },
     "execution_count": 25,
     "metadata": {},
     "output_type": "execute_result"
    }
   ],
   "source": [
    "# Classification\n",
    "from sklearn.neighbors import KNeighborsClassifier\n",
    "model_1 = KNeighborsClassifier(2)\n",
    "model_1.fit(X_train,y_train)"
   ]
  },
  {
   "cell_type": "code",
   "execution_count": 26,
   "id": "2501b521",
   "metadata": {},
   "outputs": [
    {
     "name": "stdout",
     "output_type": "stream",
     "text": [
      "score de prédiction =  0.9411764705882353\n"
     ]
    }
   ],
   "source": [
    "print(\"score de prédiction = \",model_1.score(X_test,y_test))"
   ]
  },
  {
   "cell_type": "code",
   "execution_count": 27,
   "id": "07955a92",
   "metadata": {},
   "outputs": [],
   "source": [
    "vect_pred_proba = model_1.predict_proba(X_test)"
   ]
  },
  {
   "cell_type": "code",
   "execution_count": 28,
   "id": "02c5d10d",
   "metadata": {},
   "outputs": [
    {
     "data": {
      "text/plain": [
       "[<matplotlib.lines.Line2D at 0x24b2b9829a0>]"
      ]
     },
     "execution_count": 28,
     "metadata": {},
     "output_type": "execute_result"
    },
    {
     "data": {
      "image/png": "[encoded data removed]",
      "text/plain": [
       "<Figure size 432x288 with 1 Axes>"
      ]
     },
     "metadata": {
      "needs_background": "light"
     },
     "output_type": "display_data"
    }
   ],
   "source": [
    "from sklearn.metrics import roc_curve\n",
    "fpr,tpr,thres = roc_curve(y_test,vect_pred_proba[:,1])\n",
    "plt.plot(fpr,tpr)"
   ]
  },
  {
   "cell_type": "code",
   "execution_count": 29,
   "metadata": {},
   "outputs": [
    {
     "data": {
      "text/plain": [
       "0.4895061728395062"
      ]
     },
     "execution_count": 29,
     "metadata": {},
     "output_type": "execute_result"
    }
   ],
   "source": [
    "from sklearn.metrics import roc_auc_score\n",
    "roc_auc_score(y_test,vect_pred_proba[:,1])"
   ]
  },
  {
   "cell_type": "markdown",
   "id": "fae6360f",
   "metadata": {},
   "source": [
    "Methode 2 : Regression logistique "
   ]
  },
  {
   "cell_type": "code",
   "execution_count": 33,
   "id": "92db41f2",
   "metadata": {},
   "outputs": [],
   "source": [
    "from sklearn.linear_model import LogisticRegression\n",
    "model_2 = LogisticRegression(max_iter=1000,random_state=0)\n",
    "model_2.fit(X_train,y_train)\n",
    "model_2.predict(X_test)\n",
    "y_pred = model_2.predict_proba(X_test)"
   ]
  },
  {
   "cell_type": "code",
   "execution_count": 34,
   "id": "e0161fa2",
   "metadata": {},
   "outputs": [
    {
     "data": {
      "text/plain": [
       "0.5219057258530942"
      ]
     },
     "execution_count": 34,
     "metadata": {},
     "output_type": "execute_result"
    },
    {
     "data": {
      "image/png": "[encoded data removed]",
      "text/plain": [
       "<Figure size 432x288 with 1 Axes>"
      ]
     },
     "metadata": {
      "needs_background": "light"
     },
     "output_type": "display_data"
    }
   ],
   "source": [
    "fpr,tpr,threshold = roc_curve(y_test,y_pred[:,1])\n",
    "plt.plot(fpr,tpr)\n",
    "roc_auc_score(y_test,y_pred[:,1])"
   ]
  },
  {
   "cell_type": "markdown",
   "id": "8990d998",
   "metadata": {},
   "source": [
    "Methode 3 : Random Forest"
   ]
  },
  {
   "cell_type": "code",
   "execution_count": 122,
   "id": "e31adceb",
   "metadata": {},
   "outputs": [
    {
     "data": {
      "text/plain": [
       "RandomForestClassifier(random_state=0)"
      ]
     },
     "execution_count": 122,
     "metadata": {},
     "output_type": "execute_result"
    }
   ],
   "source": [
    "from sklearn.ensemble import RandomForestClassifier\n",
    "model_3 = RandomForestClassifier(n_estimators=100,random_state=0) \n",
    "model_3.fit(X_train,y_train)"
   ]
  },
  {
   "cell_type": "code",
   "execution_count": 123,
   "metadata": {},
   "outputs": [
    {
     "data": {
      "text/plain": [
       "0.5815874571288584"
      ]
     },
     "execution_count": 123,
     "metadata": {},
     "output_type": "execute_result"
    },
    {
     "data": {
      "image/png": "[encoded data removed]",
      "text/plain": [
       "<Figure size 432x288 with 1 Axes>"
      ]
     },
     "metadata": {
      "needs_background": "light"
     },
     "output_type": "display_data"
    }
   ],
   "source": [
    "y_score = model_3.predict_proba(X_test)\n",
    "fpr,tpr,thr = roc_curve(y_test,y_score[:,1])\n",
    "plt.plot(fpr,tpr)\n",
    "roc_auc_score(y_test,y_score[:,1])"
   ]
  },
  {
   "cell_type": "markdown",
   "id": "33def586",
   "metadata": {},
   "source": [
    "Modèle 4 : "
   ]
  },
  {
   "cell_type": "code",
   "execution_count": 143,
   "id": "e19e4b88",
   "metadata": {},
   "outputs": [
    {
     "ename": "TypeError",
     "evalue": "score() missing 1 required positional argument: 'y'",
     "output_type": "error",
     "traceback": [
      "\u001b[1;31m---------------------------------------------------------------------------\u001b[0m",
      "\u001b[1;31mTypeError\u001b[0m                                 Traceback (most recent call last)",
      "\u001b[1;32mC:\\Users\\ELHADR~1\\AppData\\Local\\Temp/ipykernel_12812/3535400832.py\u001b[0m in \u001b[0;36m<module>\u001b[1;34m\u001b[0m\n\u001b[0;32m      2\u001b[0m \u001b[0mmodel_4\u001b[0m \u001b[1;33m=\u001b[0m \u001b[0mSVC\u001b[0m\u001b[1;33m(\u001b[0m\u001b[1;33m)\u001b[0m\u001b[1;33m\u001b[0m\u001b[1;33m\u001b[0m\u001b[0m\n\u001b[0;32m      3\u001b[0m \u001b[0mmodel_4\u001b[0m\u001b[1;33m.\u001b[0m\u001b[0mfit\u001b[0m\u001b[1;33m(\u001b[0m\u001b[0mX_train\u001b[0m\u001b[1;33m,\u001b[0m\u001b[0my_train\u001b[0m\u001b[1;33m)\u001b[0m\u001b[1;33m\u001b[0m\u001b[1;33m\u001b[0m\u001b[0m\n\u001b[1;32m----> 4\u001b[1;33m \u001b[0mmodel_4\u001b[0m\u001b[1;33m.\u001b[0m\u001b[0mscore\u001b[0m\u001b[1;33m(\u001b[0m\u001b[0mX_test\u001b[0m\u001b[1;33m)\u001b[0m\u001b[1;33m\u001b[0m\u001b[1;33m\u001b[0m\u001b[0m\n\u001b[0m",
      "\u001b[1;31mTypeError\u001b[0m: score() missing 1 required positional argument: 'y'"
     ]
    }
   ],
   "source": [
    "from sklearn.svm import SVC\n",
    "model_4 = SVC()\n",
    "model_4.fit(X_train,y_train)"
   ]
  },
  {
   "cell_type": "code",
   "execution_count": 144,
   "id": "8cfe5c93",
   "metadata": {},
   "outputs": [
    {
     "data": {
      "text/plain": [
       "0.9235294117647059"
      ]
     },
     "execution_count": 144,
     "metadata": {},
     "output_type": "execute_result"
    }
   ],
   "source": [
    "model_4.score(X_test,y_test)"
   ]
  },
  {
   "cell_type": "code",
   "execution_count": 151,
   "id": "4079458b",
   "metadata": {},
   "outputs": [],
   "source": [
    "y_score = model_4.predict(X_test)\n",
    "#fpr,tpr,thr = roc_curve(y_test,y_score[:,1])"
   ]
  }
 ],
 "metadata": {
  "interpreter": {
   "hash": "ed225720166559e7176d3793db16a2fd8d295f725007103b21ac3099d2a89ee8"
  },
  "kernelspec": {
   "display_name": "Julia 1.6.2",
   "language": "python",
   "name": "python3"
  },
  "language_info": {
   "codemirror_mode": {
    "name": "ipython",
    "version": 3
   },
   "file_extension": ".py",
   "mimetype": "text/x-python",
   "name": "python",
   "nbconvert_exporter": "python",
   "pygments_lexer": "ipython3",
   "version": "3.8.8"
  }
 },
 "nbformat": 4,
 "nbformat_minor": 5
}
