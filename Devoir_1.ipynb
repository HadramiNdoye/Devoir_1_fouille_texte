{
 "cells": [
  {
   "cell_type": "markdown",
   "id": "ee49309a",
   "metadata": {},
   "source": [
    "## <center>Examen mi-parcours </center>\n",
    "<center>Master parcours SSD - UE Apprentissage statistique 2 </center>\n",
    "<center>Automne 2021 </center>"
   ]
  },
  {
   "cell_type": "code",
   "execution_count": 406,
   "id": "2aa6af21",
   "metadata": {},
   "outputs": [],
   "source": [
    "# load package\n",
    "import pandas as pd \n",
    "import numpy as np\n",
    "import matplotlib.pylab as plt"
   ]
  },
  {
   "cell_type": "markdown",
   "id": "d6faf769",
   "metadata": {},
   "source": [
    "### Statistique descriptive"
   ]
  },
  {
   "cell_type": "code",
   "execution_count": 407,
   "id": "af273391",
   "metadata": {},
   "outputs": [
    {
     "data": {
      "text/html": [
       "<div>\n",
       "<style scoped>\n",
       "    .dataframe tbody tr th:only-of-type {\n",
       "        vertical-align: middle;\n",
       "    }\n",
       "\n",
       "    .dataframe tbody tr th {\n",
       "        vertical-align: top;\n",
       "    }\n",
       "\n",
       "    .dataframe thead th {\n",
       "        text-align: right;\n",
       "    }\n",
       "</style>\n",
       "<table border=\"1\" class=\"dataframe\">\n",
       "  <thead>\n",
       "    <tr style=\"text-align: right;\">\n",
       "      <th></th>\n",
       "      <th>EXERCISE_FREQUENCY</th>\n",
       "      <th>SEX</th>\n",
       "      <th>ONE_LITER_OF_WATER_A_DAY_FREQUENCY</th>\n",
       "      <th>SEAFOOD_FREQUENCY</th>\n",
       "      <th>PROBIOTIC_FREQUENCY</th>\n",
       "      <th>OLIVE_OIL</th>\n",
       "      <th>FRUIT_FREQUENCY</th>\n",
       "      <th>SLEEP_DURATION</th>\n",
       "      <th>SUGAR_SWEETENED_DRINK_FREQUENCY</th>\n",
       "      <th>MILK_CHEESE_FREQUENCY</th>\n",
       "      <th>RED_MEAT_FREQUENCY</th>\n",
       "      <th>MEAT_EGGS_FREQUENCY</th>\n",
       "      <th>VEGETABLE_FREQUENCY</th>\n",
       "    </tr>\n",
       "  </thead>\n",
       "  <tbody>\n",
       "    <tr>\n",
       "      <th>0</th>\n",
       "      <td>2</td>\n",
       "      <td>0</td>\n",
       "      <td>4</td>\n",
       "      <td>2</td>\n",
       "      <td>4</td>\n",
       "      <td>0</td>\n",
       "      <td>3</td>\n",
       "      <td>4</td>\n",
       "      <td>0</td>\n",
       "      <td>0</td>\n",
       "      <td>3</td>\n",
       "      <td>4</td>\n",
       "      <td>3</td>\n",
       "    </tr>\n",
       "    <tr>\n",
       "      <th>1</th>\n",
       "      <td>0</td>\n",
       "      <td>1</td>\n",
       "      <td>3</td>\n",
       "      <td>1</td>\n",
       "      <td>0</td>\n",
       "      <td>3</td>\n",
       "      <td>2</td>\n",
       "      <td>3</td>\n",
       "      <td>1</td>\n",
       "      <td>1</td>\n",
       "      <td>1</td>\n",
       "      <td>2</td>\n",
       "      <td>2</td>\n",
       "    </tr>\n",
       "    <tr>\n",
       "      <th>2</th>\n",
       "      <td>2</td>\n",
       "      <td>1</td>\n",
       "      <td>3</td>\n",
       "      <td>2</td>\n",
       "      <td>4</td>\n",
       "      <td>2</td>\n",
       "      <td>4</td>\n",
       "      <td>5</td>\n",
       "      <td>0</td>\n",
       "      <td>1</td>\n",
       "      <td>1</td>\n",
       "      <td>4</td>\n",
       "      <td>4</td>\n",
       "    </tr>\n",
       "    <tr>\n",
       "      <th>3</th>\n",
       "      <td>3</td>\n",
       "      <td>0</td>\n",
       "      <td>4</td>\n",
       "      <td>1</td>\n",
       "      <td>0</td>\n",
       "      <td>2</td>\n",
       "      <td>0</td>\n",
       "      <td>2</td>\n",
       "      <td>0</td>\n",
       "      <td>4</td>\n",
       "      <td>2</td>\n",
       "      <td>4</td>\n",
       "      <td>3</td>\n",
       "    </tr>\n",
       "    <tr>\n",
       "      <th>4</th>\n",
       "      <td>3</td>\n",
       "      <td>1</td>\n",
       "      <td>2</td>\n",
       "      <td>1</td>\n",
       "      <td>1</td>\n",
       "      <td>4</td>\n",
       "      <td>3</td>\n",
       "      <td>4</td>\n",
       "      <td>0</td>\n",
       "      <td>3</td>\n",
       "      <td>3</td>\n",
       "      <td>4</td>\n",
       "      <td>3</td>\n",
       "    </tr>\n",
       "  </tbody>\n",
       "</table>\n",
       "</div>"
      ],
      "text/plain": [
       "   EXERCISE_FREQUENCY  SEX  ONE_LITER_OF_WATER_A_DAY_FREQUENCY  \\\n",
       "0                   2    0                                   4   \n",
       "1                   0    1                                   3   \n",
       "2                   2    1                                   3   \n",
       "3                   3    0                                   4   \n",
       "4                   3    1                                   2   \n",
       "\n",
       "   SEAFOOD_FREQUENCY  PROBIOTIC_FREQUENCY  OLIVE_OIL  FRUIT_FREQUENCY  \\\n",
       "0                  2                    4          0                3   \n",
       "1                  1                    0          3                2   \n",
       "2                  2                    4          2                4   \n",
       "3                  1                    0          2                0   \n",
       "4                  1                    1          4                3   \n",
       "\n",
       "   SLEEP_DURATION  SUGAR_SWEETENED_DRINK_FREQUENCY  MILK_CHEESE_FREQUENCY  \\\n",
       "0               4                                0                      0   \n",
       "1               3                                1                      1   \n",
       "2               5                                0                      1   \n",
       "3               2                                0                      4   \n",
       "4               4                                0                      3   \n",
       "\n",
       "   RED_MEAT_FREQUENCY  MEAT_EGGS_FREQUENCY  VEGETABLE_FREQUENCY  \n",
       "0                   3                    4                    3  \n",
       "1                   1                    2                    2  \n",
       "2                   1                    4                    4  \n",
       "3                   2                    4                    3  \n",
       "4                   3                    4                    3  "
      ]
     },
     "execution_count": 407,
     "metadata": {},
     "output_type": "execute_result"
    }
   ],
   "source": [
    "# load data\n",
    "train_data_clinical = pd.read_csv(\"dataset/train-data_clinical.csv\",sep=\";\")\n",
    "train_data_clinical.shape\n",
    "train_data_clinical.head()"
   ]
  },
  {
   "cell_type": "code",
   "execution_count": 408,
   "id": "8c9d7df1",
   "metadata": {},
   "outputs": [
    {
     "data": {
      "text/plain": [
       "(850, 13)"
      ]
     },
     "execution_count": 408,
     "metadata": {},
     "output_type": "execute_result"
    }
   ],
   "source": [
    "test_data_clinical = pd.read_csv(\"dataset/test-data_clinical.csv\",sep=\";\",decimal=\".\")\n",
    "test_data_clinical.shape"
   ]
  },
  {
   "cell_type": "code",
   "execution_count": 409,
   "id": "bfb18c71",
   "metadata": {},
   "outputs": [
    {
     "name": "stdout",
     "output_type": "stream",
     "text": [
      "<class 'pandas.core.frame.DataFrame'>\n",
      "RangeIndex: 4965 entries, 0 to 4964\n",
      "Columns: 7033 entries, OTU_1 to OTU_7033\n",
      "dtypes: object(7033)\n",
      "memory usage: 266.4+ MB\n"
     ]
    }
   ],
   "source": [
    "train_data_otu = pd.read_csv(\"dataset/train-data_otu.csv\",sep=\";\",low_memory=False,decimal=\".\") \n",
    "train_data_otu.shape\n",
    "train_data_otu.info()"
   ]
  },
  {
   "cell_type": "code",
   "execution_count": 410,
   "id": "af7a3c5f",
   "metadata": {},
   "outputs": [
    {
     "data": {
      "text/html": [
       "<div>\n",
       "<style scoped>\n",
       "    .dataframe tbody tr th:only-of-type {\n",
       "        vertical-align: middle;\n",
       "    }\n",
       "\n",
       "    .dataframe tbody tr th {\n",
       "        vertical-align: top;\n",
       "    }\n",
       "\n",
       "    .dataframe thead th {\n",
       "        text-align: right;\n",
       "    }\n",
       "</style>\n",
       "<table border=\"1\" class=\"dataframe\">\n",
       "  <thead>\n",
       "    <tr style=\"text-align: right;\">\n",
       "      <th></th>\n",
       "      <th>OTU_1</th>\n",
       "      <th>OTU_2</th>\n",
       "      <th>OTU_3</th>\n",
       "      <th>OTU_4</th>\n",
       "      <th>OTU_5</th>\n",
       "      <th>OTU_6</th>\n",
       "      <th>OTU_7</th>\n",
       "      <th>OTU_8</th>\n",
       "      <th>OTU_9</th>\n",
       "      <th>OTU_10</th>\n",
       "      <th>...</th>\n",
       "      <th>OTU_7024</th>\n",
       "      <th>OTU_7025</th>\n",
       "      <th>OTU_7026</th>\n",
       "      <th>OTU_7027</th>\n",
       "      <th>OTU_7028</th>\n",
       "      <th>OTU_7029</th>\n",
       "      <th>OTU_7030</th>\n",
       "      <th>OTU_7031</th>\n",
       "      <th>OTU_7032</th>\n",
       "      <th>OTU_7033</th>\n",
       "    </tr>\n",
       "  </thead>\n",
       "  <tbody>\n",
       "    <tr>\n",
       "      <th>0</th>\n",
       "      <td>0,180439273676199</td>\n",
       "      <td>0,238664781994129</td>\n",
       "      <td>0</td>\n",
       "      <td>0,00385995433293465</td>\n",
       "      <td>0</td>\n",
       "      <td>0</td>\n",
       "      <td>0</td>\n",
       "      <td>0,000869848863759922</td>\n",
       "      <td>0,0167445906273785</td>\n",
       "      <td>0</td>\n",
       "      <td>...</td>\n",
       "      <td>0</td>\n",
       "      <td>0</td>\n",
       "      <td>0</td>\n",
       "      <td>0</td>\n",
       "      <td>0</td>\n",
       "      <td>0</td>\n",
       "      <td>0</td>\n",
       "      <td>0</td>\n",
       "      <td>0</td>\n",
       "      <td>0</td>\n",
       "    </tr>\n",
       "    <tr>\n",
       "      <th>1</th>\n",
       "      <td>0,000883197173769044</td>\n",
       "      <td>0,000504684099296597</td>\n",
       "      <td>0,000378513074472447</td>\n",
       "      <td>0,00170330883512601</td>\n",
       "      <td>0,000378513074472447</td>\n",
       "      <td>0</td>\n",
       "      <td>0,0159921773964609</td>\n",
       "      <td>0,0166230325205817</td>\n",
       "      <td>0</td>\n",
       "      <td>0</td>\n",
       "      <td>...</td>\n",
       "      <td>0</td>\n",
       "      <td>0</td>\n",
       "      <td>0</td>\n",
       "      <td>0</td>\n",
       "      <td>0</td>\n",
       "      <td>0</td>\n",
       "      <td>0</td>\n",
       "      <td>0</td>\n",
       "      <td>0</td>\n",
       "      <td>0</td>\n",
       "    </tr>\n",
       "    <tr>\n",
       "      <th>2</th>\n",
       "      <td>0,715733658673924</td>\n",
       "      <td>0,00225235793721552</td>\n",
       "      <td>0,0245413166909108</td>\n",
       "      <td>0,00183004082398761</td>\n",
       "      <td>0</td>\n",
       "      <td>0,0156726573131247</td>\n",
       "      <td>0,00168926845291164</td>\n",
       "      <td>0,000797710102763831</td>\n",
       "      <td>0,00183004082398761</td>\n",
       "      <td>0</td>\n",
       "      <td>...</td>\n",
       "      <td>0</td>\n",
       "      <td>0</td>\n",
       "      <td>0</td>\n",
       "      <td>0</td>\n",
       "      <td>0</td>\n",
       "      <td>0</td>\n",
       "      <td>0</td>\n",
       "      <td>0</td>\n",
       "      <td>0</td>\n",
       "      <td>0</td>\n",
       "    </tr>\n",
       "    <tr>\n",
       "      <th>3</th>\n",
       "      <td>0,00238338440585632</td>\n",
       "      <td>0,00374531835205993</td>\n",
       "      <td>0,00340483486550902</td>\n",
       "      <td>0,154125524912042</td>\n",
       "      <td>0,00612870275791624</td>\n",
       "      <td>0</td>\n",
       "      <td>0,145386448757235</td>\n",
       "      <td>0</td>\n",
       "      <td>0</td>\n",
       "      <td>0,0396095789354216</td>\n",
       "      <td>...</td>\n",
       "      <td>0</td>\n",
       "      <td>0</td>\n",
       "      <td>0</td>\n",
       "      <td>0</td>\n",
       "      <td>0</td>\n",
       "      <td>0</td>\n",
       "      <td>0</td>\n",
       "      <td>0</td>\n",
       "      <td>0</td>\n",
       "      <td>0</td>\n",
       "    </tr>\n",
       "    <tr>\n",
       "      <th>4</th>\n",
       "      <td>0,000683565935630874</td>\n",
       "      <td>0</td>\n",
       "      <td>0,105553973227001</td>\n",
       "      <td>0,0656223298205639</td>\n",
       "      <td>0,210823127314156</td>\n",
       "      <td>0,0504699515807462</td>\n",
       "      <td>0,0238678439191114</td>\n",
       "      <td>0,0694958701224722</td>\n",
       "      <td>0,00262033608658502</td>\n",
       "      <td>0</td>\n",
       "      <td>...</td>\n",
       "      <td>0</td>\n",
       "      <td>0</td>\n",
       "      <td>0</td>\n",
       "      <td>0</td>\n",
       "      <td>0</td>\n",
       "      <td>0</td>\n",
       "      <td>0</td>\n",
       "      <td>0</td>\n",
       "      <td>0</td>\n",
       "      <td>0</td>\n",
       "    </tr>\n",
       "  </tbody>\n",
       "</table>\n",
       "<p>5 rows × 7033 columns</p>\n",
       "</div>"
      ],
      "text/plain": [
       "                  OTU_1                 OTU_2                 OTU_3  \\\n",
       "0     0,180439273676199     0,238664781994129                     0   \n",
       "1  0,000883197173769044  0,000504684099296597  0,000378513074472447   \n",
       "2     0,715733658673924   0,00225235793721552    0,0245413166909108   \n",
       "3   0,00238338440585632   0,00374531835205993   0,00340483486550902   \n",
       "4  0,000683565935630874                     0     0,105553973227001   \n",
       "\n",
       "                 OTU_4                 OTU_5               OTU_6  \\\n",
       "0  0,00385995433293465                     0                   0   \n",
       "1  0,00170330883512601  0,000378513074472447                   0   \n",
       "2  0,00183004082398761                     0  0,0156726573131247   \n",
       "3    0,154125524912042   0,00612870275791624                   0   \n",
       "4   0,0656223298205639     0,210823127314156  0,0504699515807462   \n",
       "\n",
       "                 OTU_7                 OTU_8                OTU_9  \\\n",
       "0                    0  0,000869848863759922   0,0167445906273785   \n",
       "1   0,0159921773964609    0,0166230325205817                    0   \n",
       "2  0,00168926845291164  0,000797710102763831  0,00183004082398761   \n",
       "3    0,145386448757235                     0                    0   \n",
       "4   0,0238678439191114    0,0694958701224722  0,00262033608658502   \n",
       "\n",
       "               OTU_10  ... OTU_7024 OTU_7025 OTU_7026 OTU_7027 OTU_7028  \\\n",
       "0                   0  ...        0        0        0        0        0   \n",
       "1                   0  ...        0        0        0        0        0   \n",
       "2                   0  ...        0        0        0        0        0   \n",
       "3  0,0396095789354216  ...        0        0        0        0        0   \n",
       "4                   0  ...        0        0        0        0        0   \n",
       "\n",
       "  OTU_7029 OTU_7030 OTU_7031 OTU_7032 OTU_7033  \n",
       "0        0        0        0        0        0  \n",
       "1        0        0        0        0        0  \n",
       "2        0        0        0        0        0  \n",
       "3        0        0        0        0        0  \n",
       "4        0        0        0        0        0  \n",
       "\n",
       "[5 rows x 7033 columns]"
      ]
     },
     "execution_count": 410,
     "metadata": {},
     "output_type": "execute_result"
    }
   ],
   "source": [
    "train_data_otu.head()"
   ]
  },
  {
   "cell_type": "code",
   "execution_count": 411,
   "id": "00df985e",
   "metadata": {},
   "outputs": [
    {
     "name": "stdout",
     "output_type": "stream",
     "text": [
      "<class 'pandas.core.frame.DataFrame'>\n",
      "RangeIndex: 850 entries, 0 to 849\n",
      "Columns: 7033 entries, OTU_1 to OTU_7033\n",
      "dtypes: int64(37), object(6996)\n",
      "memory usage: 45.6+ MB\n"
     ]
    }
   ],
   "source": [
    "test_data_otu =pd.read_csv(\"dataset/test-data_otu.csv\",sep=\";\",low_memory=False)\n",
    "test_data_otu.info()"
   ]
  },
  {
   "cell_type": "code",
   "execution_count": 412,
   "id": "042840af",
   "metadata": {},
   "outputs": [
    {
     "data": {
      "text/html": [
       "<div>\n",
       "<style scoped>\n",
       "    .dataframe tbody tr th:only-of-type {\n",
       "        vertical-align: middle;\n",
       "    }\n",
       "\n",
       "    .dataframe tbody tr th {\n",
       "        vertical-align: top;\n",
       "    }\n",
       "\n",
       "    .dataframe thead th {\n",
       "        text-align: right;\n",
       "    }\n",
       "</style>\n",
       "<table border=\"1\" class=\"dataframe\">\n",
       "  <thead>\n",
       "    <tr style=\"text-align: right;\">\n",
       "      <th></th>\n",
       "      <th>OTU_1</th>\n",
       "      <th>OTU_2</th>\n",
       "      <th>OTU_3</th>\n",
       "      <th>OTU_4</th>\n",
       "      <th>OTU_5</th>\n",
       "      <th>OTU_6</th>\n",
       "      <th>OTU_7</th>\n",
       "      <th>OTU_8</th>\n",
       "      <th>OTU_9</th>\n",
       "      <th>OTU_10</th>\n",
       "      <th>...</th>\n",
       "      <th>OTU_7024</th>\n",
       "      <th>OTU_7025</th>\n",
       "      <th>OTU_7026</th>\n",
       "      <th>OTU_7027</th>\n",
       "      <th>OTU_7028</th>\n",
       "      <th>OTU_7029</th>\n",
       "      <th>OTU_7030</th>\n",
       "      <th>OTU_7031</th>\n",
       "      <th>OTU_7032</th>\n",
       "      <th>OTU_7033</th>\n",
       "    </tr>\n",
       "  </thead>\n",
       "  <tbody>\n",
       "    <tr>\n",
       "      <th>0</th>\n",
       "      <td>0,266402938683244</td>\n",
       "      <td>0</td>\n",
       "      <td>0,00469059056230574</td>\n",
       "      <td>0,00514269567674484</td>\n",
       "      <td>0,132862390505793</td>\n",
       "      <td>0,000678157671658661</td>\n",
       "      <td>0,00299519638315908</td>\n",
       "      <td>0,0305170952246397</td>\n",
       "      <td>0,0394461712348121</td>\n",
       "      <td>0</td>\n",
       "      <td>...</td>\n",
       "      <td>0</td>\n",
       "      <td>0</td>\n",
       "      <td>0</td>\n",
       "      <td>0</td>\n",
       "      <td>0</td>\n",
       "      <td>0</td>\n",
       "      <td>0</td>\n",
       "      <td>0</td>\n",
       "      <td>0</td>\n",
       "      <td>0</td>\n",
       "    </tr>\n",
       "    <tr>\n",
       "      <th>1</th>\n",
       "      <td>0,00141211445559272</td>\n",
       "      <td>0,228985507246377</td>\n",
       "      <td>0,00921590486807878</td>\n",
       "      <td>0,0130063173541434</td>\n",
       "      <td>0</td>\n",
       "      <td>0</td>\n",
       "      <td>0,00594574507617986</td>\n",
       "      <td>0,0120401337792642</td>\n",
       "      <td>0,145893719806763</td>\n",
       "      <td>0</td>\n",
       "      <td>...</td>\n",
       "      <td>0</td>\n",
       "      <td>0</td>\n",
       "      <td>0</td>\n",
       "      <td>0</td>\n",
       "      <td>0</td>\n",
       "      <td>0</td>\n",
       "      <td>0</td>\n",
       "      <td>0</td>\n",
       "      <td>0</td>\n",
       "      <td>0</td>\n",
       "    </tr>\n",
       "    <tr>\n",
       "      <th>2</th>\n",
       "      <td>0,0010618312505105</td>\n",
       "      <td>0,0414930980968717</td>\n",
       "      <td>0,0115984644286531</td>\n",
       "      <td>0,0495793514661439</td>\n",
       "      <td>0</td>\n",
       "      <td>0</td>\n",
       "      <td>0,008739687984971</td>\n",
       "      <td>0,00996487788940619</td>\n",
       "      <td>0,00914808461978273</td>\n",
       "      <td>0,00269541778975741</td>\n",
       "      <td>...</td>\n",
       "      <td>0</td>\n",
       "      <td>0</td>\n",
       "      <td>0</td>\n",
       "      <td>0</td>\n",
       "      <td>0</td>\n",
       "      <td>0</td>\n",
       "      <td>0</td>\n",
       "      <td>0</td>\n",
       "      <td>0</td>\n",
       "      <td>0</td>\n",
       "    </tr>\n",
       "    <tr>\n",
       "      <th>3</th>\n",
       "      <td>0,00216740948775872</td>\n",
       "      <td>0,210055558947433</td>\n",
       "      <td>0,234934977715367</td>\n",
       "      <td>0,0906954026497344</td>\n",
       "      <td>0,000366322730325417</td>\n",
       "      <td>0,000305268941937847</td>\n",
       "      <td>0,000366322730325417</td>\n",
       "      <td>0</td>\n",
       "      <td>0,0721045240857195</td>\n",
       "      <td>0</td>\n",
       "      <td>...</td>\n",
       "      <td>0</td>\n",
       "      <td>0</td>\n",
       "      <td>0</td>\n",
       "      <td>0</td>\n",
       "      <td>0</td>\n",
       "      <td>0</td>\n",
       "      <td>0</td>\n",
       "      <td>0</td>\n",
       "      <td>0</td>\n",
       "      <td>0</td>\n",
       "    </tr>\n",
       "    <tr>\n",
       "      <th>4</th>\n",
       "      <td>0,549270472768698</td>\n",
       "      <td>0,0304079218332384</td>\n",
       "      <td>0,000438154493274329</td>\n",
       "      <td>0,00635324015247776</td>\n",
       "      <td>0</td>\n",
       "      <td>0</td>\n",
       "      <td>0,00030670814529203</td>\n",
       "      <td>0</td>\n",
       "      <td>0</td>\n",
       "      <td>0</td>\n",
       "      <td>...</td>\n",
       "      <td>0</td>\n",
       "      <td>8,76308986548657e-05</td>\n",
       "      <td>0</td>\n",
       "      <td>0</td>\n",
       "      <td>0</td>\n",
       "      <td>0</td>\n",
       "      <td>0</td>\n",
       "      <td>0</td>\n",
       "      <td>0</td>\n",
       "      <td>0</td>\n",
       "    </tr>\n",
       "  </tbody>\n",
       "</table>\n",
       "<p>5 rows × 7033 columns</p>\n",
       "</div>"
      ],
      "text/plain": [
       "                 OTU_1               OTU_2                 OTU_3  \\\n",
       "0    0,266402938683244                   0   0,00469059056230574   \n",
       "1  0,00141211445559272   0,228985507246377   0,00921590486807878   \n",
       "2   0,0010618312505105  0,0414930980968717    0,0115984644286531   \n",
       "3  0,00216740948775872   0,210055558947433     0,234934977715367   \n",
       "4    0,549270472768698  0,0304079218332384  0,000438154493274329   \n",
       "\n",
       "                 OTU_4                 OTU_5                 OTU_6  \\\n",
       "0  0,00514269567674484     0,132862390505793  0,000678157671658661   \n",
       "1   0,0130063173541434                     0                     0   \n",
       "2   0,0495793514661439                     0                     0   \n",
       "3   0,0906954026497344  0,000366322730325417  0,000305268941937847   \n",
       "4  0,00635324015247776                     0                     0   \n",
       "\n",
       "                  OTU_7                OTU_8                OTU_9  \\\n",
       "0   0,00299519638315908   0,0305170952246397   0,0394461712348121   \n",
       "1   0,00594574507617986   0,0120401337792642    0,145893719806763   \n",
       "2     0,008739687984971  0,00996487788940619  0,00914808461978273   \n",
       "3  0,000366322730325417                    0   0,0721045240857195   \n",
       "4   0,00030670814529203                    0                    0   \n",
       "\n",
       "                OTU_10  ... OTU_7024              OTU_7025 OTU_7026 OTU_7027  \\\n",
       "0                    0  ...        0                     0        0        0   \n",
       "1                    0  ...        0                     0        0        0   \n",
       "2  0,00269541778975741  ...        0                     0        0        0   \n",
       "3                    0  ...        0                     0        0        0   \n",
       "4                    0  ...        0  8,76308986548657e-05        0        0   \n",
       "\n",
       "  OTU_7028 OTU_7029 OTU_7030 OTU_7031 OTU_7032 OTU_7033  \n",
       "0        0        0        0        0        0        0  \n",
       "1        0        0        0        0        0        0  \n",
       "2        0        0        0        0        0        0  \n",
       "3        0        0        0        0        0        0  \n",
       "4        0        0        0        0        0        0  \n",
       "\n",
       "[5 rows x 7033 columns]"
      ]
     },
     "execution_count": 412,
     "metadata": {},
     "output_type": "execute_result"
    }
   ],
   "source": [
    "test_data_otu.head()"
   ]
  },
  {
   "cell_type": "markdown",
   "id": "aa52b94d",
   "metadata": {},
   "source": [
    "### Pre-Traitement"
   ]
  },
  {
   "cell_type": "code",
   "execution_count": 413,
   "id": "e7057a6a",
   "metadata": {},
   "outputs": [],
   "source": [
    "def pre_processing(data):\n",
    "    column_data = np.ravel(np.array(data.columns))\n",
    "    for i in column_data:\n",
    "        if data[i].dtypes==\"object\":\n",
    "            data[i] = [x.replace(',','.') for x in data[i]]\n",
    "    data = data.apply(pd.to_numeric)\n",
    "    return data"
   ]
  },
  {
   "cell_type": "code",
   "execution_count": 414,
   "id": "f253d674",
   "metadata": {},
   "outputs": [],
   "source": [
    "train_data_otu = pre_processing(train_data_otu)"
   ]
  },
  {
   "cell_type": "code",
   "execution_count": 415,
   "id": "5a7fc650",
   "metadata": {},
   "outputs": [
    {
     "name": "stdout",
     "output_type": "stream",
     "text": [
      "<class 'pandas.core.frame.DataFrame'>\n",
      "RangeIndex: 4965 entries, 0 to 4964\n",
      "Columns: 7033 entries, OTU_1 to OTU_7033\n",
      "dtypes: float64(7033)\n",
      "memory usage: 266.4 MB\n"
     ]
    }
   ],
   "source": [
    "train_data_otu.head()\n",
    "train_data_otu.info()"
   ]
  },
  {
   "cell_type": "code",
   "execution_count": 416,
   "id": "9d9dd9fe",
   "metadata": {},
   "outputs": [],
   "source": [
    "test_data_otu = pre_processing(test_data_otu)"
   ]
  },
  {
   "cell_type": "code",
   "execution_count": 417,
   "id": "f52f08a2",
   "metadata": {},
   "outputs": [
    {
     "name": "stdout",
     "output_type": "stream",
     "text": [
      "<class 'pandas.core.frame.DataFrame'>\n",
      "RangeIndex: 850 entries, 0 to 849\n",
      "Columns: 7033 entries, OTU_1 to OTU_7033\n",
      "dtypes: float64(6996), int64(37)\n",
      "memory usage: 45.6 MB\n"
     ]
    }
   ],
   "source": [
    "test_data_otu.head()\n",
    "test_data_otu.info()"
   ]
  },
  {
   "cell_type": "markdown",
   "id": "b3b5e5f0",
   "metadata": {},
   "source": [
    "On transforme toutes les variables de type object en float"
   ]
  },
  {
   "cell_type": "code",
   "execution_count": 418,
   "id": "4a912c45",
   "metadata": {},
   "outputs": [
    {
     "data": {
      "text/plain": [
       "4965"
      ]
     },
     "execution_count": 418,
     "metadata": {},
     "output_type": "execute_result"
    }
   ],
   "source": [
    "train_label = pd.read_csv(\"dataset/train-label.txt\",header=None)\n",
    "train_label = np.array(train_label)\n",
    "train_label\n",
    "np.unique(train_label)\n",
    "np.size(train_label)"
   ]
  },
  {
   "cell_type": "markdown",
   "id": "403f6ef9",
   "metadata": {},
   "source": [
    "On transforme les valeurs du vecteur train label en 0 et 1\n",
    "\n",
    "Healthy = 0\n",
    "\n",
    "IBD = 1"
   ]
  },
  {
   "cell_type": "code",
   "execution_count": 419,
   "id": "ff6ae0d0",
   "metadata": {},
   "outputs": [],
   "source": [
    "def encoder_train_label(data):\n",
    "    n = np.size(data)\n",
    "    for i in range(n):\n",
    "        if(data[i]=='Healthy'):\n",
    "            data[i] = 0\n",
    "        if(data[i]=='IBD'):\n",
    "            data[i] = 1\n",
    "    return data"
   ]
  },
  {
   "cell_type": "code",
   "execution_count": 420,
   "id": "4106c842",
   "metadata": {},
   "outputs": [],
   "source": [
    "train_label = np.ravel(encoder_train_label(train_label).astype(int))"
   ]
  },
  {
   "cell_type": "code",
   "execution_count": 421,
   "id": "f9144255",
   "metadata": {},
   "outputs": [
    {
     "data": {
      "text/plain": [
       "<BarContainer object of 2 artists>"
      ]
     },
     "execution_count": 421,
     "metadata": {},
     "output_type": "execute_result"
    },
    {
     "data": {
      "image/png": "[encoded data removed]",
      "text/plain": [
       "<Figure size 432x288 with 1 Axes>"
      ]
     },
     "metadata": {
      "needs_background": "light"
     },
     "output_type": "display_data"
    }
   ],
   "source": [
    "# Representation des effectifs par class\n",
    "h = np.bincount(train_label)\n",
    "plt.bar(['0','1'],h,color=['green','red'],tick_label=['Healthy','IBD'])"
   ]
  },
  {
   "cell_type": "code",
   "execution_count": 455,
   "id": "3d7e4c61",
   "metadata": {},
   "outputs": [
    {
     "data": {
      "text/plain": [
       "<AxesSubplot:xlabel='PC1', ylabel='PC2'>"
      ]
     },
     "execution_count": 455,
     "metadata": {},
     "output_type": "execute_result"
    },
    {
     "data": {
      "image/png": "[encoded data removed]",
      "text/plain": [
       "<Figure size 432x288 with 1 Axes>"
      ]
     },
     "metadata": {
      "needs_background": "light"
     },
     "output_type": "display_data"
    }
   ],
   "source": [
    "from sklearn.decomposition import PCA\n",
    "import seaborn as sn\n",
    "pca = PCA(n_components=2)\n",
    "pca.fit(train_data_clinical)\n",
    "coord = pca.fit_transform(train_data_clinical)\n",
    "pca_frame = pd.DataFrame(coord,columns=['PC1','PC2'])\n",
    "pca_frame=pd.concat([pca_frame,pd.DataFrame(train_label,columns=['y'])],axis=1)\n",
    "sn.scatterplot(x='PC1',y='PC2',hue='y',data=pca_frame)"
   ]
  },
  {
   "cell_type": "code",
   "execution_count": 456,
   "id": "21bd37ba",
   "metadata": {},
   "outputs": [
    {
     "data": {
      "text/plain": [
       "0.2930308969472336"
      ]
     },
     "execution_count": 456,
     "metadata": {},
     "output_type": "execute_result"
    }
   ],
   "source": [
    "sum(pca.explained_variance_ratio_)"
   ]
  },
  {
   "cell_type": "markdown",
   "id": "f8045aff",
   "metadata": {},
   "source": [
    "Une fonction train_test pour definir le jeu de données d'entrainement et test"
   ]
  },
  {
   "cell_type": "code",
   "execution_count": 467,
   "id": "2e3524fb",
   "metadata": {},
   "outputs": [],
   "source": [
    "def train_test(train_data,test_data,train_label):\n",
    "    size_train_data = train_data.shape[0]\n",
    "    size_test_data = test_data.shape[0]\n",
    "    ind_train_data = np.random.randint(size_train_data,size=size_train_data)\n",
    "    ind_test_data = np.random.randint(size_test_data,size=size_test_data)\n",
    "    X_train = train_data[ind_train_data,:]\n",
    "    y_train = train_label[ind_train_data]\n",
    "    X_test = test_data[ind_test_data,:]\n",
    "    y_test = train_label[ind_test_data]\n",
    "    return (X_train,X_test,y_train,y_test)"
   ]
  },
  {
   "cell_type": "code",
   "execution_count": 468,
   "id": "4959aec7",
   "metadata": {},
   "outputs": [],
   "source": [
    "from sklearn.preprocessing import StandardScaler\n",
    "def data_scaler(data):\n",
    "    scaler = StandardScaler()\n",
    "    scaler.fit(data)\n",
    "    data = scaler.transform(data)\n",
    "    return data\n",
    "train_data_clinical = data_scaler(train_data_clinical)\n",
    "test_data_clinical = data_scaler(test_data_clinical)\n",
    "train_data_otu = data_scaler(train_data_otu)\n",
    "test_data_otu = data_scaler(test_data_otu)\n"
   ]
  },
  {
   "cell_type": "code",
   "execution_count": 523,
   "id": "b3afd8c6",
   "metadata": {},
   "outputs": [
    {
     "data": {
      "text/plain": [
       "((4965, 13), (850, 13), 4965, 850)"
      ]
     },
     "execution_count": 523,
     "metadata": {},
     "output_type": "execute_result"
    }
   ],
   "source": [
    "X_train_clinical,X_test_clinical,y_train_clinical,y_test_clinical = train_test(train_data_clinical,test_data_clinical,train_label)\n",
    "X_train_clinical.shape, X_test_clinical.shape, np.size(y_train_clinical), np.size(y_test_clinical)"
   ]
  },
  {
   "cell_type": "code",
   "execution_count": 524,
   "id": "4fb1e2e5",
   "metadata": {},
   "outputs": [
    {
     "data": {
      "text/plain": [
       "((4965, 7033), (850, 7033), 4965, 850)"
      ]
     },
     "execution_count": 524,
     "metadata": {},
     "output_type": "execute_result"
    }
   ],
   "source": [
    "X_train_otu,X_test_otu,y_train_otu,y_test_otu = train_test(train_data_otu,test_data_otu,train_label)\n",
    "X_train_otu.shape, X_test_otu.shape, np.size(y_train_otu), np.size(y_test_otu)"
   ]
  },
  {
   "cell_type": "code",
   "execution_count": 509,
   "id": "cea2609f",
   "metadata": {},
   "outputs": [],
   "source": [
    "def model_selection(model,x_train,y_train,x_test,y_test):\n",
    "    model.fit(x_train,y_train)\n",
    "    score = model.score(x_test,y_test)\n",
    "    vect_pred = model.predict_proba(x_test)[:,1]\n",
    "    score_vect_pred = {'score':score,'vect_pred':vect_pred}\n",
    "    return score_vect_pred"
   ]
  },
  {
   "cell_type": "markdown",
   "id": "715deca8",
   "metadata": {},
   "source": [
    "Methode 1 : Classification"
   ]
  },
  {
   "cell_type": "code",
   "execution_count": 525,
   "id": "6c93c82a",
   "metadata": {},
   "outputs": [],
   "source": [
    "from sklearn.neighbors import KNeighborsClassifier\n",
    "model_1 = KNeighborsClassifier(2)\n",
    "model_1_clinical = model_selection(model_1,train_data_clinical,y_train_clinical,test_data_clinical,y_test_clinical)\n",
    "model_1_otu = model_selection(model_1,train_data_otu,y_train_otu,test_data_otu,y_test_otu)"
   ]
  },
  {
   "cell_type": "code",
   "execution_count": 526,
   "id": "2501b521",
   "metadata": {},
   "outputs": [
    {
     "name": "stdout",
     "output_type": "stream",
     "text": [
      "score de prédiction =  0.9505882352941176 \n",
      "\n",
      "score de prédiction =  0.9470588235294117\n"
     ]
    }
   ],
   "source": [
    "print(\"score de prédiction = \",model_1_clinical['score'],\"\\n\")\n",
    "print(\"score de prédiction = \",model_1_otu['score'])"
   ]
  },
  {
   "cell_type": "code",
   "execution_count": 527,
   "id": "02c5d10d",
   "metadata": {},
   "outputs": [
    {
     "data": {
      "text/plain": [
       "<matplotlib.legend.Legend at 0x23b348605e0>"
      ]
     },
     "execution_count": 527,
     "metadata": {},
     "output_type": "execute_result"
    },
    {
     "data": {
      "image/png": "[encoded data removed]",
      "text/plain": [
       "<Figure size 432x288 with 1 Axes>"
      ]
     },
     "metadata": {
      "needs_background": "light"
     },
     "output_type": "display_data"
    }
   ],
   "source": [
    "from sklearn.metrics import roc_curve,roc_auc_score\n",
    "fpr_clinical,tpr_clinical,thres_clinical = roc_curve(y_test_clinical, model_1_clinical['vect_pred'])\n",
    "fpr_otu,tpr_otu,thres_otu = roc_curve(y_test_otu, model_1_otu['vect_pred'])\n",
    "auc_clinical = roc_auc_score(y_test_clinical,model_1_clinical['vect_pred'])\n",
    "auc_otu = roc_auc_score(y_test_otu,model_1_clinical['vect_pred'])\n",
    "plt.plot(fpr_clinical,tpr_clinical,label=\"data_clinical,auc=\"+str(np.round(auc_clinical,2)))\n",
    "plt.plot(fpr_otu,tpr_otu,label=\"data_otu,auc=\"+str(np.round(auc_otu,2)))\n",
    "plt.legend()"
   ]
  },
  {
   "cell_type": "markdown",
   "id": "fae6360f",
   "metadata": {},
   "source": [
    "Methode 2 : Regression logistique "
   ]
  },
  {
   "cell_type": "code",
   "execution_count": 528,
   "id": "92db41f2",
   "metadata": {},
   "outputs": [],
   "source": [
    "from sklearn.linear_model import LogisticRegression\n",
    "model_2 = LogisticRegression(max_iter=1000,random_state=0)\n",
    "model_2_clinical = model_selection(model_2,train_data_clinical,y_train_clinical,test_data_clinical,y_test_clinical)\n",
    "model_2_otu = model_selection(model_2,train_data_otu,y_train_otu,test_data_otu,y_test_otu)"
   ]
  },
  {
   "cell_type": "code",
   "execution_count": 529,
   "id": "16f77229",
   "metadata": {},
   "outputs": [
    {
     "name": "stdout",
     "output_type": "stream",
     "text": [
      "score de prédiction =  0.9529411764705882 \n",
      "\n",
      "score de prédiction =  0.94\n"
     ]
    }
   ],
   "source": [
    "print(\"score de prédiction = \",model_2_clinical['score'],\"\\n\")\n",
    "print(\"score de prédiction = \",model_2_otu['score'])"
   ]
  },
  {
   "cell_type": "code",
   "execution_count": 530,
   "id": "e0161fa2",
   "metadata": {},
   "outputs": [
    {
     "data": {
      "text/plain": [
       "<matplotlib.legend.Legend at 0x23b349088e0>"
      ]
     },
     "execution_count": 530,
     "metadata": {},
     "output_type": "execute_result"
    },
    {
     "data": {
      "image/png": "[encoded data removed]",
      "text/plain": [
       "<Figure size 432x288 with 1 Axes>"
      ]
     },
     "metadata": {
      "needs_background": "light"
     },
     "output_type": "display_data"
    }
   ],
   "source": [
    "fpr_clinical,tpr_clinical,thres_clinical = roc_curve(y_test_clinical, model_2_clinical['vect_pred'])\n",
    "auc_clinical = roc_auc_score(y_test_clinical,model_2_clinical['vect_pred'])\n",
    "fpr_otu,tpr_otu,thres_otu = roc_curve(y_test_otu, model_2_otu['vect_pred'])\n",
    "auc_otu = roc_auc_score(y_test_otu,model_2_otu['vect_pred'])\n",
    "plt.plot(fpr_clinical,tpr_clinical,label=\"data_clinical,auc=\"+str(np.round(auc_clinical,2)))\n",
    "plt.plot(fpr_otu,tpr_otu,label=\"data_otu,auc=\"+str(np.round(auc_otu,2)))\n",
    "plt.legend()"
   ]
  },
  {
   "cell_type": "markdown",
   "id": "8990d998",
   "metadata": {},
   "source": [
    "Methode 3 : Random Forest"
   ]
  },
  {
   "cell_type": "code",
   "execution_count": 531,
   "id": "e31adceb",
   "metadata": {},
   "outputs": [],
   "source": [
    "from sklearn.ensemble import RandomForestClassifier\n",
    "model_3 = RandomForestClassifier() \n",
    "model_3_clinical = model_selection(model_3,train_data_clinical,y_train_clinical,test_data_clinical,y_test_clinical)\n",
    "model_3_otu = model_selection(model_3,train_data_otu,y_train_otu,test_data_otu,y_test_otu)"
   ]
  },
  {
   "cell_type": "code",
   "execution_count": 532,
   "id": "bd26cd3a",
   "metadata": {},
   "outputs": [
    {
     "name": "stdout",
     "output_type": "stream",
     "text": [
      "score de prédiction =  0.951764705882353 \n",
      "\n",
      "score de prédiction =  0.9482352941176471\n"
     ]
    }
   ],
   "source": [
    "print(\"score de prédiction = \",model_3_clinical['score'],\"\\n\")\n",
    "print(\"score de prédiction = \",model_3_otu['score'])"
   ]
  },
  {
   "cell_type": "code",
   "execution_count": 533,
   "metadata": {},
   "outputs": [
    {
     "data": {
      "text/plain": [
       "<matplotlib.legend.Legend at 0x23b34e07e80>"
      ]
     },
     "execution_count": 533,
     "metadata": {},
     "output_type": "execute_result"
    },
    {
     "data": {
      "image/png": "[encoded data removed]",
      "text/plain": [
       "<Figure size 432x288 with 1 Axes>"
      ]
     },
     "metadata": {
      "needs_background": "light"
     },
     "output_type": "display_data"
    }
   ],
   "source": [
    "fpr_clinical,tpr_clinical,thres_clinical = roc_curve(y_test_clinical, model_3_clinical['vect_pred'])\n",
    "auc_clinical = roc_auc_score(y_test_clinical,model_3_clinical['vect_pred'])\n",
    "fpr_otu,tpr_otu,thres_otu = roc_curve(y_test_otu, model_3_otu['vect_pred'])\n",
    "auc_otu = roc_auc_score(y_test_otu,model_3_otu['vect_pred'])\n",
    "plt.plot(fpr_clinical,tpr_clinical,label=\"data_clinical,auc=\"+str(np.round(auc_clinical,2)))\n",
    "plt.plot(fpr_otu,tpr_otu,label=\"data_otu,auc=\"+str(np.round(auc_otu,2)))\n",
    "plt.legend()"
   ]
  },
  {
   "cell_type": "markdown",
   "id": "932c1e75",
   "metadata": {},
   "source": [
    "Modele 4 : "
   ]
  }
 ],
 "metadata": {
  "interpreter": {
   "hash": "ed225720166559e7176d3793db16a2fd8d295f725007103b21ac3099d2a89ee8"
  },
  "kernelspec": {
   "display_name": "Julia 1.6.2",
   "language": "python",
   "name": "python3"
  },
  "language_info": {
   "codemirror_mode": {
    "name": "ipython",
    "version": 3
   },
   "file_extension": ".py",
   "mimetype": "text/x-python",
   "name": "python",
   "nbconvert_exporter": "python",
   "pygments_lexer": "ipython3",
   "version": "3.8.8"
  }
 },
 "nbformat": 4,
 "nbformat_minor": 5
}
